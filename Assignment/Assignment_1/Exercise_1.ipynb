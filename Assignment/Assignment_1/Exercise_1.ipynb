{
  "cells": [
    {
      "cell_type": "markdown",
      "metadata": {
        "id": "hBA-gLI24LAX"
      },
      "source": [
        "# Syntax Based Exercise"
      ]
    },
    {
      "cell_type": "markdown",
      "metadata": {
        "id": "MOs3NihW4LAc"
      },
      "source": [
        "## Orientation\n",
        "- This code notebook is composed of cells. Each cell is either text or Python code.\n",
        "- To run a cell of code, click the \"play button\" icon to the left of the cell or click on the cell and press \"Shift+Enter\" on your keyboard. This will execute the Python code contained in the cell. Executing a cell that defines a variable is important before executing or authoring a cell that depends on that previously created variable assignment.\n",
        "- Each *assert* line is both an example and a test that tests for the presence and functionality of the instructed exercise.\n",
        "\n",
        "\n",
        "## Outline\n",
        "- Each cell starts with a problem statement that describes the exercise to complete.\n",
        "- Underneath each problem statement, learners will need to write code to produce an answer.\n",
        "- The **assert** lines test to see that your code solves the problem appropriately.\n",
        "- Do not alter or delete the assertion tests, since those are providing automated testing.\n",
        "- Many exercises will rely on previous solutions to be correctly completed\n",
        "- The `print(\"Exercise is complete\")` line will only run if your solution passes the assertion test(s)\n",
        "- Be sure to create programmatic solutions that will work for all inputs:\n",
        "- For example, calling the `is_even(2)` returns `True`, but your function should work for all even numbers, both positive and negative.\n",
        "\n",
        "\n",
        "## Guidance\n",
        "- Get Python to do the work for you. For example, if the exercise instructs you to reverse a list of numbers, your job is to find the\n",
        "- Save often by clicking the blue \"Save\" button.\n",
        "- If you need to clear the output or reset the notebook, go to \"Run\" then \"Restart Session\" to clear up any error messages.\n",
        "- Do not move or alter the lines of code that contain the `assert` statements. Those are what run your solution and test its actual output vs. expected outputs.\n",
        "- Seek to understand the problem before trying to solve it. Can you explain the problem to someone else in English? Can you explain the solution in English?\n",
        "- Slow down and read any error messages you encounter. Error messages provide insight into how to resolve the error. When in doubt, put your exact error into a search engine and look for results that reference an identical or similar problem.\n",
        "\n",
        "## Get Python To Do The Work For You\n",
        "One of the main jobs of a programming language is to help people solve problems programatically, so we don't have to do so much by hand. For example, it's easy for a person to manually reverse the list `[1, 2, 3]`, but imagine reversing a list of a million things or sorting a list of even a hundred things. When we write programmatic solutions in code, we are providing instructions to the computer to do a task. Computers follow the letter of the code, not the intent, and do exactly what they are told to do. In this way, Python can reverse a list of 3 numbers or 100 numbers or ten million numbers with the same instructions. Repetition is a key idea behind programming languages.\n",
        "\n",
        "This means that your task with these exercises is to determine a sequence of steps that solve the problem and then find the Python code that will run those instructions. If you're sorting or reversing things by hand, you're not doing it right!\n",
        "\n",
        "## How To Discover How To Do Something in Python\n",
        "1. The first step is to make sure you know what the problem is asking.\n",
        "2. The second step is to determine, in English (or your first spoken language), what steps you need to take.\n",
        "3. Use a search engine to look for code examples to identical or similar problems.\n",
        "\n",
        "One of the best ways to discover how to do things in Python is to use a search engine. Go to your favorite search engine and search for \"how to reverse a list in Python\" or \"how to sort a list in Python\". That's how both learners and professionals find answers and examples all the time. Search for what you want and add \"in Python\" and you'll get lots of code examples. Searching for \"How to sum a list of numbers in Python\" is a very effective way to discover exactly how to do that task."
      ]
    },
    {
      "cell_type": "markdown",
      "metadata": {
        "id": "c30NAhlQ4LAe"
      },
      "source": [
        "### Learning to Program and Code\n",
        "- You can make a new blank cell for Python code at any time in this document.\n",
        "- If you want more freedom to explore learning Python in a blank notebook, go here https://colab.research.google.com/#create=true and make yourself a blank, new notebook.\n",
        "- Programming is an intellectual activity of designing a solution. \"Coding\" means turning your programmatic solution into code w/ all the right syntax and parts of the programming language.\n",
        "- Expect to make mistakes and adopt the attitude that **the error message provides the information you need to proceed**. You will put lots of error messages into search engines to learn this craft!\n",
        "- Because computers have zero ability to read in between the lines or \"catch the drift\" or know what you mean, code only does what it is told to do.\n",
        "- Code doesn't do what you *want* it to do, code does what you've told it to do.\n",
        "- Before writing any code, figure out how you would solve the problem in spoken language to describe the sequence of steps in the solution.\n",
        "- Think about your solution in English (or your natural language). It's **critical** to solve the problem in your natural language before trying to get a programming language to do the work."
      ]
    },
    {
      "cell_type": "markdown",
      "metadata": {
        "id": "lSq6yRzj4LAe"
      },
      "source": [
        "## Troubleshooting\n",
        "- If this entire document shows \"Name Error\" for many cells, it means you should read the \"Getting Started\" instructions above to make your own copy.\n",
        "- Be sure to commit your work to make save points, as you go.\n",
        "- If you load this page and you see your code but not the results of the code, be sure to run each cell (shift + Enter makes this quick)\n",
        "- \"Name Error\" means that you need to assign a variable or define the function as instructed.\n",
        "- \"Assertion Error\" means that your provided solution does not match the correct answer.\n",
        "- \"Type Error\" means that your data type provided is not accurate\n",
        "- If your kernel freezes, click on \"Run\" then select \"Restart Session\"\n",
        "- If you require additional troubleshooting assistance, click on \"Help\" and then \"Docs\" to access documentation for this platform.\n",
        "\n",
        "## What to do when you don't know what to do next\n",
        "- When the exercise asks you to reverse an list, the way forward is to search for \"How to reverse a list in Python\" in your favorite search engine.\n",
        "- When the exercise asks you to check if a number is even, the way forward is to search for \"how to check if a number is even in Python\".\n",
        "- When the exercise has you calculate the area of a circle, the way forward is to search for \"how to calculate the area of a circle in Python\" or \"How to get pi in Python\".\n",
        "\n",
        "> The pattern for finding what you need in JavaScript is to rely very heavily on search engine searches so you can find examples of working code and discussions about code that speak to your questions."
      ]
    },
    {
      "cell_type": "code",
      "execution_count": 95,
      "metadata": {
        "_cell_guid": "79c7e3d0-c299-4dcb-8224-4455121ee9b0",
        "_uuid": "d629ff2d2480ee46fbb7e2d37f6b5fab8052498a",
        "colab": {
          "base_uri": "https://localhost:8080/"
        },
        "id": "92sY6yAQ4LAf",
        "outputId": "76b9e9f0-e918-46fc-e442-471fe6cab740"
      },
      "outputs": [
        {
          "name": "stdout",
          "output_type": "stream",
          "text": [
            "Exercise 0 is correct\n"
          ]
        }
      ],
      "source": [
        "# Example problem:\n",
        "# Uncomment the line below and run this cell.\n",
        "# The hashtag \"#\" character in a line of Python code is the comment character.\n",
        "doing_python_right_now = True\n",
        "\n",
        "# The lines below will test your answer. If you see an error, then it means that your answer is incorrect or incomplete.\n",
        "assert doing_python_right_now == True, \"If you see a NameError, it means that the variable is not created and assigned a value. An 'Assertion Error' means that the value of the variable is incorrect.\"\n",
        "print(\"Exercise 0 is correct\") # This line will print if your solution passes the assertion above."
      ]
    },
    {
      "cell_type": "code",
      "execution_count": 96,
      "metadata": {
        "colab": {
          "base_uri": "https://localhost:8080/"
        },
        "id": "TqrwWxSu4LAg",
        "outputId": "8715bff4-b9d6-4781-83e0-aef5b69fd98d"
      },
      "outputs": [
        {
          "name": "stdout",
          "output_type": "stream",
          "text": [
            "Exercise 1 is correct.\n"
          ]
        }
      ],
      "source": [
        "# Exercise 1\n",
        "# On the line below, create a variable named on_mars_right_now and assign it the boolean value of False\n",
        "on_mars_right_now=False\n",
        "assert on_mars_right_now == False, \"If you see a Name Error, be sure to create the variable and assign it a value.\"\n",
        "print(\"Exercise 1 is correct.\")"
      ]
    },
    {
      "cell_type": "code",
      "execution_count": 97,
      "metadata": {
        "id": "7YlM1CjD4LAh"
      },
      "outputs": [
        {
          "name": "stdout",
          "output_type": "stream",
          "text": [
            "Exercise 2 is correct.\n"
          ]
        }
      ],
      "source": [
        "# Exercise 2\n",
        "# Create a variable named fruits and assign it a list of fruits containing the following fruit names as strings:\n",
        "# mango, banana, guava, kiwi, and strawberry.\n",
        "fruits=[\"mango\",\"banana\",\"guava\",\"kiwi\",\"strawberry\"]\n",
        "assert fruits == [\"mango\", \"banana\", \"guava\", \"kiwi\", \"strawberry\"], \"If you see an Assert Error, ensure the variable contains all the strings in the provided order\"\n",
        "print(\"Exercise 2 is correct.\")"
      ]
    },
    {
      "cell_type": "code",
      "execution_count": 98,
      "metadata": {
        "id": "UDbr4Imu4LAi"
      },
      "outputs": [
        {
          "name": "stdout",
          "output_type": "stream",
          "text": [
            "Exercise 3 is correct.\n"
          ]
        }
      ],
      "source": [
        "# Exercise 3\n",
        "# Create a variable named vegetables and assign it a list of fruits containing the following vegetable names as strings:\n",
        "# eggplant, broccoli, carrot, cauliflower, and zucchini\n",
        "vegetables=[\"eggplant\",\"broccoli\",\"carrot\",\"cauliflower\",\"zucchini\"]\n",
        "assert vegetables == [\"eggplant\", \"broccoli\", \"carrot\", \"cauliflower\", \"zucchini\"], \"Ensure the variable contains all the strings in the provided order\"\n",
        "print(\"Exercise 3 is correct.\")"
      ]
    },
    {
      "cell_type": "code",
      "execution_count": 99,
      "metadata": {
        "id": "5_eNtD9P4LAj"
      },
      "outputs": [
        {
          "name": "stdout",
          "output_type": "stream",
          "text": [
            "Exercise 4 is correct.\n"
          ]
        }
      ],
      "source": [
        "# Exercise 4\n",
        "# Create a variable named numbers and assign it a list of numbers, 1, 2, 3, 4, 5, 6, 7, 8, 9, 10\n",
        "numbers=[1,2,3,4,5,6,7,8,9,10]\n",
        "assert numbers == [1, 2, 3, 4, 5, 6, 7, 8, 9, 10], \"Ensure the variable contains the numbers 1-10 in order.\"\n",
        "print(\"Exercise 4 is correct.\")"
      ]
    },
    {
      "cell_type": "markdown",
      "metadata": {
        "id": "BPyQfKnU4LAj"
      },
      "source": [
        "## List Operations\n",
        "**Hint** Recommend finding and using built-in Python functionality whenever possible."
      ]
    },
    {
      "cell_type": "code",
      "execution_count": 100,
      "metadata": {
        "id": "KmizIJVi4LAj"
      },
      "outputs": [
        {
          "name": "stdout",
          "output_type": "stream",
          "text": [
            "Exercise 5 is correct\n"
          ]
        }
      ],
      "source": [
        "# Exercise 5\n",
        "# Given the following assigment of the list of fruits, add \"tomato\" to the end of the list.\n",
        "fruits = [\"mango\", \"banana\", \"guava\", \"kiwi\", \"strawberry\"]\n",
        "fruits.append(\"tomato\")\n",
        "assert fruits == [\"mango\", \"banana\", \"guava\", \"kiwi\", \"strawberry\", \"tomato\"], \"Ensure the variable contains all the strings in the right order\"\n",
        "print(\"Exercise 5 is correct\")"
      ]
    },
    {
      "cell_type": "code",
      "execution_count": 101,
      "metadata": {
        "id": "3B6Qq_VO4LAl"
      },
      "outputs": [
        {
          "name": "stdout",
          "output_type": "stream",
          "text": [
            "Exercise 6 is correct\n"
          ]
        }
      ],
      "source": [
        "# Exercise 6\n",
        "# Given the following assignment of the vegetables list, add \"tomato\" to the end of the list.\n",
        "vegetables = [\"eggplant\", \"broccoli\", \"carrot\", \"cauliflower\", \"zucchini\"]\n",
        "\n",
        "vegetables.append(\"tomato\")\n",
        "assert vegetables == [\"eggplant\", \"broccoli\", \"carrot\", \"cauliflower\", \"zucchini\", \"tomato\"], \"Ensure the variable contains all the strings in the provided order\"\n",
        "print(\"Exercise 6 is correct\")"
      ]
    },
    {
      "cell_type": "code",
      "execution_count": 102,
      "metadata": {
        "id": "rKFPrJ2S4LAl"
      },
      "outputs": [
        {
          "name": "stdout",
          "output_type": "stream",
          "text": [
            "Exercise 7 is correct.\n"
          ]
        }
      ],
      "source": [
        "# Exercise 7\n",
        "# Given the list of numbers defined below, reverse the list of numbers that you created above.\n",
        "numbers = [1, 2, 3, 4, 5, 6, 7, 8, 9, 10]\n",
        "numbers=numbers[::-1]\n",
        "\n",
        "assert numbers == [10, 9, 8, 7, 6, 5, 4, 3, 2, 1], \"Assert Error means that the answer is incorrect.\"\n",
        "print(\"Exercise 7 is correct.\")"
      ]
    },
    {
      "cell_type": "code",
      "execution_count": 103,
      "metadata": {
        "id": "LrYaV8iS4LAm"
      },
      "outputs": [
        {
          "name": "stdout",
          "output_type": "stream",
          "text": [
            "Exercise 8 is correct.\n"
          ]
        }
      ],
      "source": [
        "# Exercise 8\n",
        "# Sort the vegetables in alphabetical order\n",
        "vegetables.sort()\n",
        "assert vegetables == ['broccoli', 'carrot', 'cauliflower', 'eggplant', 'tomato', 'zucchini']\n",
        "print(\"Exercise 8 is correct.\")"
      ]
    },
    {
      "cell_type": "code",
      "execution_count": 104,
      "metadata": {
        "id": "86W7T9L64LAm"
      },
      "outputs": [
        {
          "name": "stdout",
          "output_type": "stream",
          "text": [
            "Exercise 9 is correct.\n"
          ]
        }
      ],
      "source": [
        "# Exercise 9\n",
        "# Write the code necessary to sort the fruits in reverse alphabetical order\n",
        "fruits.sort(reverse=True)\n",
        "assert fruits == ['tomato', 'strawberry', 'mango', 'kiwi', 'guava', 'banana']\n",
        "print(\"Exercise 9 is correct.\")"
      ]
    },
    {
      "cell_type": "code",
      "execution_count": 105,
      "metadata": {
        "id": "Gl4xMkMh4LAm"
      },
      "outputs": [
        {
          "name": "stdout",
          "output_type": "stream",
          "text": [
            "Exercise 10 is correct\n"
          ]
        }
      ],
      "source": [
        "# Exercise 10\n",
        "# Write the code necessary to produce a single list that holds all fruits then all vegetables in the order as they were sorted above.\n",
        "fruits_and_veggies=fruits+vegetables\n",
        "assert fruits_and_veggies == ['tomato', 'strawberry', 'mango', 'kiwi', 'guava', 'banana', 'broccoli', 'carrot', 'cauliflower', 'eggplant', 'tomato', 'zucchini']\n",
        "print(\"Exercise 10 is correct\")"
      ]
    },
    {
      "cell_type": "markdown",
      "metadata": {
        "id": "ZADWBsEM4LAn"
      },
      "source": [
        "## Basic Functions\n",
        "![](http://)**Hint** Be sure to `return` values from your function definitions. The assert statements will call your function(s) for you."
      ]
    },
    {
      "cell_type": "code",
      "execution_count": 106,
      "metadata": {
        "id": "cN9dcBix4LAo"
      },
      "outputs": [
        {
          "name": "stdout",
          "output_type": "stream",
          "text": [
            "We now have some random numbers available for future exercises.\n",
            "The random positive even number is 12\n",
            "The random positive odd nubmer is 89\n",
            "The random negative even number -36\n",
            "The random negative odd number -21\n"
          ]
        }
      ],
      "source": [
        "# Run this cell in order to generate some numbers to use in our functions after this.\n",
        "import random\n",
        "\n",
        "positive_even_number = random.randrange(2, 101, 2)\n",
        "negative_even_number = random.randrange(-100, -1, 2)\n",
        "\n",
        "positive_odd_number = random.randrange(1, 100, 2)\n",
        "negative_odd_number = random.randrange(-101, 0, 2)\n",
        "print(\"We now have some random numbers available for future exercises.\")\n",
        "print(\"The random positive even number is\", positive_even_number)\n",
        "print(\"The random positive odd nubmer is\", positive_odd_number)\n",
        "print(\"The random negative even number\", negative_even_number)\n",
        "print(\"The random negative odd number\", negative_odd_number)\n"
      ]
    },
    {
      "cell_type": "code",
      "execution_count": 107,
      "metadata": {
        "id": "SvJzd4Xi4LAo"
      },
      "outputs": [
        {
          "name": "stdout",
          "output_type": "stream",
          "text": [
            "The example function definition ran appropriately\n"
          ]
        }
      ],
      "source": [
        "# Example function defintion:\n",
        "# Write a say_hello function that adds the string \"Hello, \" to the beginning and \"!\" to the end of any given input.\n",
        "def say_hello(name):\n",
        "    return \"Hello, \" + name + \"!\"\n",
        "\n",
        "assert say_hello(\"Jane\") == \"Hello, Jane!\", \"Double check the inputs and data types\"\n",
        "assert say_hello(\"Pat\") == \"Hello, Pat!\", \"Double check the inputs and data types\"\n",
        "assert say_hello(\"Astrud\") == \"Hello, Astrud!\", \"Double check the inputs and data types\"\n",
        "print(\"The example function definition ran appropriately\")"
      ]
    },
    {
      "cell_type": "code",
      "execution_count": 108,
      "metadata": {
        "id": "gqELBulx4LAp"
      },
      "outputs": [
        {
          "name": "stdout",
          "output_type": "stream",
          "text": [
            "The plus_two assertions executed appropriately... The second function definition example executed appropriately.\n"
          ]
        }
      ],
      "source": [
        "# Another example function definition:\n",
        "# This plus_two function takes in a variable and adds 2 to it.\n",
        "def plus_two(number):\n",
        "    return number + 2\n",
        "\n",
        "assert plus_two(3) == 5\n",
        "assert plus_two(0) == 2\n",
        "assert plus_two(-2) == 0\n",
        "print(\"The plus_two assertions executed appropriately... The second function definition example executed appropriately.\")"
      ]
    },
    {
      "cell_type": "code",
      "execution_count": 109,
      "metadata": {
        "id": "8CijJmRH4LAp"
      },
      "outputs": [
        {
          "name": "stdout",
          "output_type": "stream",
          "text": [
            "Exercise 11 is correct.\n"
          ]
        }
      ],
      "source": [
        "# Exercise 11\n",
        "# Write a function definition for a function named add_one that takes in a number and returns that number plus one.\n",
        "def add_one(number):\n",
        "    return number + 1\n",
        "\n",
        "assert add_one(2) == 3, \"Ensure that the function is defined, named properly, and returns the correct value\"\n",
        "assert add_one(0) == 1, \"Zero plus one is one.\"\n",
        "assert add_one(positive_even_number) == positive_even_number + 1, \"Ensure that the function is defined, named properly, and returns the correct value\"\n",
        "assert add_one(negative_odd_number) == negative_odd_number + 1, \"Ensure that the function is defined, named properly, and returns the correct value\"\n",
        "print(\"Exercise 11 is correct.\")"
      ]
    },
    {
      "cell_type": "code",
      "execution_count": 110,
      "metadata": {
        "id": "8Q6gODP_4LAp"
      },
      "outputs": [
        {
          "name": "stdout",
          "output_type": "stream",
          "text": [
            "Exercise 12 is correct.\n"
          ]
        }
      ],
      "source": [
        "# Exercise 12\n",
        "# write a function definition named is_positive that takes in a number and returns True or False if that number is positive.\n",
        "def is_positive(number):\n",
        "   if number>0:\n",
        "    return True\n",
        "   else:\n",
        "    return False\n",
        "   \n",
        "assert is_positive(positive_odd_number) == True, \"Ensure that the function is defined, named properly, and returns the correct value\"\n",
        "assert is_positive(positive_even_number) == True, \"Ensure that the function is defined, named properly, and returns the correct value\"\n",
        "assert is_positive(negative_odd_number) == False, \"Ensure that the function is defined, named properly, and returns the correct value\"\n",
        "assert is_positive(negative_even_number) == False, \"Ensure that the function is defined, named properly, and returns the correct value\"\n",
        "assert is_positive(0) == False, \"Zero is not a positive number.\"\n",
        "print(\"Exercise 12 is correct.\")"
      ]
    },
    {
      "cell_type": "code",
      "execution_count": 111,
      "metadata": {
        "id": "HZikoODS4LAp"
      },
      "outputs": [
        {
          "name": "stdout",
          "output_type": "stream",
          "text": [
            "Exercise 13 is correct.\n"
          ]
        }
      ],
      "source": [
        "# Exercise 13\n",
        "# Write a function definition named is_negative that takes in a number and returns True or False if that number is negative.\n",
        "def is_negative(number):\n",
        "    if number<0:\n",
        "        return True\n",
        "    else:\n",
        "        return False\n",
        "assert is_negative(positive_odd_number) == False, \"Ensure that the function is defined, named properly, and returns the correct value\"\n",
        "assert is_negative(positive_even_number) == False, \"Ensure that the function is defined, named properly, and returns the correct value\"\n",
        "assert is_negative(negative_odd_number) == True, \"Ensure that the function is defined, named properly, and returns the correct value\"\n",
        "assert is_negative(negative_even_number) == True, \"Ensure that the function is defined, named properly, and returns the correct value\"\n",
        "assert is_negative(0) == False, \"Zero is not a negative number.\"\n",
        "print(\"Exercise 13 is correct.\")"
      ]
    },
    {
      "cell_type": "code",
      "execution_count": 112,
      "metadata": {
        "id": "d5e3VCzP4LAp"
      },
      "outputs": [
        {
          "name": "stdout",
          "output_type": "stream",
          "text": [
            "Exercise 14 is correct.\n"
          ]
        }
      ],
      "source": [
        "# Exercise 14\n",
        "# Write a function definition named is_odd that takes in a number and returns True or False if that number is odd.\n",
        "def is_odd(number):\n",
        "    if number%2==1:\n",
        "        return True\n",
        "    else:\n",
        "        return False\n",
        "assert is_odd(positive_odd_number) == True, \"Ensure that the function is defined, named properly, and returns the correct value\"\n",
        "assert is_odd(positive_even_number) == False, \"Ensure that the function is defined, named properly, and returns the correct value\"\n",
        "assert is_odd(negative_odd_number) == True, \"Ensure that the function is defined, named properly, and returns the correct value\"\n",
        "assert is_odd(negative_even_number) == False, \"Ensure that the function is defined, named properly, and returns the correct value\"\n",
        "print(\"Exercise 14 is correct.\")"
      ]
    },
    {
      "cell_type": "code",
      "execution_count": 113,
      "metadata": {
        "id": "s1Fyvj2t4LAp"
      },
      "outputs": [
        {
          "name": "stdout",
          "output_type": "stream",
          "text": [
            "Exercise 15 is correct.\n"
          ]
        }
      ],
      "source": [
        "# Exercise 15\n",
        "# Write a function definition named is_even that takes in a number and returns True or False if that number is even.\n",
        "def is_even(number):\n",
        "    if number%2==0:\n",
        "        return True\n",
        "    else:\n",
        "        return False\n",
        "assert is_even(2) == True, \"Ensure that the function is defined, named properly, and returns the correct value\"\n",
        "assert is_even(positive_odd_number) == False, \"Ensure that the function is defined, named properly, and returns the correct value\"\n",
        "assert is_even(positive_even_number) == True, \"Ensure that the function is defined, named properly, and returns the correct value\"\n",
        "assert is_even(negative_odd_number) == False, \"Ensure that the function is defined, named properly, and returns the correct value\"\n",
        "assert is_even(negative_even_number) == True, \"Ensure that the function is defined, named properly, and returns the correct value\"\n",
        "print(\"Exercise 15 is correct.\")"
      ]
    },
    {
      "cell_type": "code",
      "execution_count": 114,
      "metadata": {
        "id": "mX07cvu-4LAq"
      },
      "outputs": [
        {
          "name": "stdout",
          "output_type": "stream",
          "text": [
            "Exercise 16 is correct.\n"
          ]
        }
      ],
      "source": [
        "# Exercise 16\n",
        "# Write a function definition named identity that takes in any argument and returns that argument's value. Don't overthink this one!\n",
        "def identity(name):\n",
        "    return name\n",
        "assert identity(fruits) == fruits, \"Ensure that the function is defined, named properly, and returns the correct value\"\n",
        "assert identity(vegetables) == vegetables, \"Ensure that the function is defined, named properly, and returns the correct value\"\n",
        "assert identity(positive_odd_number) == positive_odd_number, \"Ensure that the function is defined, named properly, and returns the correct value\"\n",
        "assert identity(positive_even_number) == positive_even_number, \"Ensure that the function is defined, named properly, and returns the correct value\"\n",
        "assert identity(negative_odd_number) == negative_odd_number, \"Ensure that the function is defined, named properly, and returns the correct value\"\n",
        "assert identity(negative_even_number) == negative_even_number, \"Ensure that the function is defined, named properly, and returns the correct value\"\n",
        "print(\"Exercise 16 is correct.\")"
      ]
    },
    {
      "cell_type": "code",
      "execution_count": 115,
      "metadata": {
        "id": "sxGBYleP4LAq"
      },
      "outputs": [
        {
          "name": "stdout",
          "output_type": "stream",
          "text": [
            "Exercise 17 is correct.\n"
          ]
        }
      ],
      "source": [
        "# Exercise 17\n",
        "# Write a function definition named is_positive_odd that takes in a number and returns True or False if the value is both greater than zero and odd\n",
        "def is_positive_odd(number):\n",
        "    if number>0 and number%2==1:\n",
        "        return True\n",
        "    else:\n",
        "        return False\n",
        "assert is_positive_odd(3) == True, \"Double check your syntax and logic\"\n",
        "assert is_positive_odd(positive_odd_number) == True, \"Double check your syntax and logic\"\n",
        "assert is_positive_odd(positive_even_number) == False, \"Double check your syntax and logic\"\n",
        "assert is_positive_odd(negative_odd_number) == False, \"Double check your syntax and logic\"\n",
        "assert is_positive_odd(negative_even_number) == False, \"Double check your syntax and logic\"\n",
        "print(\"Exercise 17 is correct.\")"
      ]
    },
    {
      "cell_type": "code",
      "execution_count": 116,
      "metadata": {
        "id": "tMbLZoVl4LAq"
      },
      "outputs": [
        {
          "name": "stdout",
          "output_type": "stream",
          "text": [
            "Exercise 18 is correct.\n"
          ]
        }
      ],
      "source": [
        "# Exercise 18\n",
        "# Write a function definition named is_positive_even that takes in a number and returns True or False if the value is both greater than zero and even\n",
        "def is_positive_even(number):\n",
        "    if number>0 and number%2==0:\n",
        "        return True\n",
        "    else:\n",
        "        return False\n",
        "assert is_positive_even(4) == True, \"Double check your syntax and logic\"\n",
        "assert is_positive_even(positive_odd_number) == False, \"Double check your syntax and logic\"\n",
        "assert is_positive_even(positive_even_number) == True, \"Double check your syntax and logic\"\n",
        "assert is_positive_even(negative_odd_number) == False, \"Double check your syntax and logic\"\n",
        "assert is_positive_even(negative_even_number) == False, \"Double check your syntax and logic\"\n",
        "print(\"Exercise 18 is correct.\")"
      ]
    },
    {
      "cell_type": "code",
      "execution_count": 117,
      "metadata": {
        "id": "wBShqRXt4LAq"
      },
      "outputs": [
        {
          "name": "stdout",
          "output_type": "stream",
          "text": [
            "Exercise 19 is correct.\n"
          ]
        }
      ],
      "source": [
        "# Exercise 19\n",
        "# Write a function definition named is_negative_odd that takes in a number and returns True or False if the value is both less than zero and odd.\n",
        "def is_negative_odd(number):\n",
        "    if number<0 and number%2==1:\n",
        "        return True\n",
        "    else:\n",
        "        return False\n",
        "assert is_negative_odd(-3) == True, \"Double check your syntax and logic\"\n",
        "assert is_negative_odd(positive_odd_number) == False, \"Double check your syntax and logic\"\n",
        "assert is_negative_odd(positive_even_number) == False, \"Double check your syntax and logic\"\n",
        "assert is_negative_odd(negative_odd_number) == True, \"Double check your syntax and logic\"\n",
        "assert is_negative_odd(negative_even_number) == False, \"Double check your syntax and logic\"\n",
        "print(\"Exercise 19 is correct.\")\n"
      ]
    },
    {
      "cell_type": "code",
      "execution_count": 118,
      "metadata": {
        "id": "QOucusBm4LAr"
      },
      "outputs": [
        {
          "name": "stdout",
          "output_type": "stream",
          "text": [
            "Exercise 20 is correct.\n"
          ]
        }
      ],
      "source": [
        "# Exercise 20\n",
        "# Write a function definition named is_negative_even that takes in a number and returns True or False if the value is both less than zero and even.\n",
        "def is_negative_even(number):\n",
        "    if number<0 and number%2==0:\n",
        "        return True\n",
        "    else:\n",
        "        return False\n",
        "assert is_negative_even(-4) == True, \"Double check your syntax and logic\"\n",
        "assert is_negative_even(positive_odd_number) == False, \"Double check your syntax and logic\"\n",
        "assert is_negative_even(positive_even_number) == False, \"Double check your syntax and logic\"\n",
        "assert is_negative_even(negative_odd_number) == False, \"Double check your syntax and logic\"\n",
        "assert is_negative_even(negative_even_number) == True, \"Double check your syntax and logic\"\n",
        "print(\"Exercise 20 is correct.\")"
      ]
    },
    {
      "cell_type": "code",
      "execution_count": 119,
      "metadata": {
        "id": "DdRJO6JZ4LAr"
      },
      "outputs": [
        {
          "name": "stdout",
          "output_type": "stream",
          "text": [
            "Exercise 21 is correct.\n"
          ]
        }
      ],
      "source": [
        "# Exercise 21\n",
        "# Write a function definition named half that takes in a number and returns half the provided number.\n",
        "def half(number):\n",
        "    return number/2\n",
        "    \n",
        "assert half(4) == 2\n",
        "assert half(5) == 2.5\n",
        "assert half(positive_odd_number) == positive_odd_number / 2\n",
        "assert half(positive_even_number) == positive_even_number / 2\n",
        "assert half(negative_odd_number) == negative_odd_number / 2\n",
        "assert half(negative_even_number) == negative_even_number / 2\n",
        "print(\"Exercise 21 is correct.\")"
      ]
    },
    {
      "cell_type": "code",
      "execution_count": 120,
      "metadata": {
        "id": "1OukDeIu4LAr"
      },
      "outputs": [
        {
          "name": "stdout",
          "output_type": "stream",
          "text": [
            "Exercise 22 is correct.\n"
          ]
        }
      ],
      "source": [
        "# Exercise 22\n",
        "# Write a function definition named double that takes in a number and returns double the provided number.\n",
        "def double(number):\n",
        "    return number*2\n",
        "assert double(4) == 8\n",
        "assert double(5) == 10\n",
        "assert double(positive_odd_number) == positive_odd_number * 2\n",
        "assert double(positive_even_number) == positive_even_number * 2\n",
        "assert double(negative_odd_number) == negative_odd_number * 2\n",
        "assert double(negative_even_number) == negative_even_number * 2\n",
        "print(\"Exercise 22 is correct.\")"
      ]
    },
    {
      "cell_type": "code",
      "execution_count": 121,
      "metadata": {
        "id": "tYTKnIKu4LAs"
      },
      "outputs": [
        {
          "name": "stdout",
          "output_type": "stream",
          "text": [
            "Exercise 23 is correct.\n"
          ]
        }
      ],
      "source": [
        "# Exercise 23\n",
        "# Write a function definition named triple that takes in a number and returns triple the provided number.\n",
        "def triple(number):\n",
        "    return number*3\n",
        "assert triple(4) == 12\n",
        "assert triple(5) == 15\n",
        "assert triple(positive_odd_number) == positive_odd_number * 3\n",
        "assert triple(positive_even_number) == positive_even_number * 3\n",
        "assert triple(negative_odd_number) == negative_odd_number * 3\n",
        "assert triple(negative_even_number) == negative_even_number * 3\n",
        "print(\"Exercise 23 is correct.\")"
      ]
    },
    {
      "cell_type": "code",
      "execution_count": 122,
      "metadata": {
        "id": "lFZqOVLd4LAs"
      },
      "outputs": [
        {
          "name": "stdout",
          "output_type": "stream",
          "text": [
            "Exercise 24 is correct.\n"
          ]
        }
      ],
      "source": [
        "# Exercise 24\n",
        "# Write a function definition named reverse_sign that takes in a number and returns the provided number but with the sign reversed.\n",
        "def reverse_sign(number):\n",
        "   return -number\n",
        "    \n",
        "assert reverse_sign(4) == -4\n",
        "assert reverse_sign(-5) == 5\n",
        "assert reverse_sign(positive_odd_number) == positive_odd_number * -1\n",
        "assert reverse_sign(positive_even_number) == positive_even_number * -1\n",
        "assert reverse_sign(negative_odd_number) == negative_odd_number * -1\n",
        "assert reverse_sign(negative_even_number) == negative_even_number * -1\n",
        "print(\"Exercise 24 is correct.\")"
      ]
    },
    {
      "cell_type": "code",
      "execution_count": 123,
      "metadata": {
        "id": "YyYKSZpa4LAs"
      },
      "outputs": [
        {
          "name": "stdout",
          "output_type": "stream",
          "text": [
            "Exercise 25 is correct.\n"
          ]
        }
      ],
      "source": [
        "# Exercise 25\n",
        "# Write a function definition named absolute_value that takes in a number and returns the absolute value of the provided number\n",
        "def absolute_value(number):\n",
        "    return abs(number)\n",
        "assert absolute_value(4) == 4\n",
        "assert absolute_value(-5) == 5\n",
        "assert absolute_value(positive_odd_number) == positive_odd_number\n",
        "assert absolute_value(positive_even_number) == positive_even_number\n",
        "assert absolute_value(negative_odd_number) == negative_odd_number * -1\n",
        "assert absolute_value(negative_even_number) == negative_even_number * -1\n",
        "print(\"Exercise 25 is correct.\")"
      ]
    },
    {
      "cell_type": "code",
      "execution_count": 124,
      "metadata": {
        "id": "M20IKig44LAs"
      },
      "outputs": [
        {
          "name": "stdout",
          "output_type": "stream",
          "text": [
            "Exercise 26 is correct.\n"
          ]
        }
      ],
      "source": [
        "# Exercise 26\n",
        "# Write a function definition named is_multiple_of_three that takes in a number and returns True or False if the number is evenly divisible by 3.\n",
        "def is_multiple_of_three(number):\n",
        "    if number%3==0:\n",
        "        return True\n",
        "    else:\n",
        "        return False\n",
        "assert is_multiple_of_three(3) == True\n",
        "assert is_multiple_of_three(15) == True\n",
        "assert is_multiple_of_three(9) == True\n",
        "assert is_multiple_of_three(4) == False\n",
        "assert is_multiple_of_three(10) == False\n",
        "print(\"Exercise 26 is correct.\")"
      ]
    },
    {
      "cell_type": "code",
      "execution_count": 125,
      "metadata": {
        "id": "ZEhqheM94LAt"
      },
      "outputs": [
        {
          "ename": "NameError",
          "evalue": "name 'is_multiple_of_five' is not defined",
          "output_type": "error",
          "traceback": [
            "\u001b[1;31m---------------------------------------------------------------------------\u001b[0m",
            "\u001b[1;31mNameError\u001b[0m                                 Traceback (most recent call last)",
            "Cell \u001b[1;32mIn[125], line 4\u001b[0m\n\u001b[0;32m      1\u001b[0m \u001b[38;5;66;03m# Exercise 27\u001b[39;00m\n\u001b[0;32m      2\u001b[0m \u001b[38;5;66;03m# Write a function definition named is_multiple_of_five that takes in a number and returns True or False if the number is evenly divisible by 5.\u001b[39;00m\n\u001b[1;32m----> 4\u001b[0m \u001b[38;5;28;01massert\u001b[39;00m \u001b[43mis_multiple_of_five\u001b[49m(\u001b[38;5;241m3\u001b[39m) \u001b[38;5;241m==\u001b[39m \u001b[38;5;28;01mFalse\u001b[39;00m\n\u001b[0;32m      5\u001b[0m \u001b[38;5;28;01massert\u001b[39;00m is_multiple_of_five(\u001b[38;5;241m15\u001b[39m) \u001b[38;5;241m==\u001b[39m \u001b[38;5;28;01mTrue\u001b[39;00m\n\u001b[0;32m      6\u001b[0m \u001b[38;5;28;01massert\u001b[39;00m is_multiple_of_five(\u001b[38;5;241m9\u001b[39m) \u001b[38;5;241m==\u001b[39m \u001b[38;5;28;01mFalse\u001b[39;00m\n",
            "\u001b[1;31mNameError\u001b[0m: name 'is_multiple_of_five' is not defined"
          ]
        }
      ],
      "source": [
        "# Exercise 27\n",
        "# Write a function definition named is_multiple_of_five that takes in a number and returns True or False if the number is evenly divisible by 5.\n",
        "\n",
        "assert is_multiple_of_five(3) == False\n",
        "assert is_multiple_of_five(15) == True\n",
        "assert is_multiple_of_five(9) == False\n",
        "assert is_multiple_of_five(4) == False\n",
        "assert is_multiple_of_five(10) == True\n",
        "print(\"Exercise 27 is correct.\")"
      ]
    },
    {
      "cell_type": "code",
      "execution_count": null,
      "metadata": {
        "id": "Ee9oZ4tP4LAt"
      },
      "outputs": [
        {
          "name": "stdout",
          "output_type": "stream",
          "text": [
            "Exercise 28 is correct.\n"
          ]
        }
      ],
      "source": [
        "# Exercise 28\n",
        "# Write a function definition named is_multiple_of_both_three_and_five that takes in a number and returns True or False if the number is evenly divisible by both 3 and 5.\n",
        "def is_multiple_of_both_three_and_five(number):\n",
        "    if number%3==0 and number%5==0:\n",
        "        return True\n",
        "    else:\n",
        "        return False\n",
        "assert is_multiple_of_both_three_and_five(15) == True\n",
        "assert is_multiple_of_both_three_and_five(45) == True\n",
        "assert is_multiple_of_both_three_and_five(3) == False\n",
        "assert is_multiple_of_both_three_and_five(9) == False\n",
        "assert is_multiple_of_both_three_and_five(4) == False\n",
        "print(\"Exercise 28 is correct.\")"
      ]
    },
    {
      "cell_type": "code",
      "execution_count": null,
      "metadata": {
        "id": "lzc1uY554LAy"
      },
      "outputs": [
        {
          "name": "stdout",
          "output_type": "stream",
          "text": [
            "Exercise 29 is correct.\n"
          ]
        }
      ],
      "source": [
        "# Exercise 29\n",
        "# Write a function definition named square that takes in a number and returns the number times itself.\n",
        "def square(number):\n",
        "    return number*number\n",
        "assert square(3) == 9\n",
        "assert square(2) == 4\n",
        "assert square(9) == 81\n",
        "assert square(positive_odd_number) == positive_odd_number * positive_odd_number\n",
        "print(\"Exercise 29 is correct.\")"
      ]
    },
    {
      "cell_type": "code",
      "execution_count": null,
      "metadata": {
        "id": "58R1nEIl4LAy"
      },
      "outputs": [
        {
          "name": "stdout",
          "output_type": "stream",
          "text": [
            "Exercise 30 is correct.\n"
          ]
        }
      ],
      "source": [
        "# Exercise 30\n",
        "# Write a function definition named add that takes in two numbers and returns the sum.\n",
        "def add(a,b):\n",
        "    return a+b\n",
        "assert add(3, 2) == 5\n",
        "assert add(10, -2) == 8\n",
        "assert add(5, 7) == 12\n",
        "print(\"Exercise 30 is correct.\")"
      ]
    },
    {
      "cell_type": "code",
      "execution_count": null,
      "metadata": {
        "id": "jCqL2mQ94LAy"
      },
      "outputs": [
        {
          "name": "stdout",
          "output_type": "stream",
          "text": [
            "Exercise 31 is correct.\n"
          ]
        }
      ],
      "source": [
        "# Exercise 31\n",
        "# Write a function definition named cube that takes in a number and returns the number times itself, times itself.\n",
        "def cube(number):\n",
        "    return number**3\n",
        "assert cube(3) == 27\n",
        "assert cube(2) == 8\n",
        "assert cube(5) == 125\n",
        "assert cube(positive_odd_number) == positive_odd_number * positive_odd_number * positive_odd_number\n",
        "print(\"Exercise 31 is correct.\")"
      ]
    },
    {
      "cell_type": "code",
      "execution_count": null,
      "metadata": {
        "id": "y0Ctc4qY4LAy"
      },
      "outputs": [
        {
          "name": "stdout",
          "output_type": "stream",
          "text": [
            "Exercise 32 is correct.\n"
          ]
        }
      ],
      "source": [
        "# Exercise 32\n",
        "# Write a function definition named square_root that takes in a number and returns the square root of the provided number\n",
        "import math\n",
        "def square_root(number):\n",
        "    return math.sqrt(number)\n",
        "assert square_root(4) == 2.0\n",
        "assert square_root(64) == 8.0\n",
        "assert square_root(81) == 9.0\n",
        "print(\"Exercise 32 is correct.\")"
      ]
    },
    {
      "cell_type": "code",
      "execution_count": null,
      "metadata": {
        "id": "sKGs0WNf4LAz"
      },
      "outputs": [
        {
          "name": "stdout",
          "output_type": "stream",
          "text": [
            "Exercise 33 is correct.\n"
          ]
        }
      ],
      "source": [
        "# Exercise 33\n",
        "# Write a function definition named subtract that takes in two numbers and returns the first minus the second argument.\n",
        "def subtract(a,b):\n",
        "    return a-b\n",
        "assert subtract(8, 6) == 2\n",
        "assert subtract(27, 4) == 23\n",
        "assert subtract(12, 2) == 10\n",
        "print(\"Exercise 33 is correct.\")"
      ]
    },
    {
      "cell_type": "code",
      "execution_count": null,
      "metadata": {
        "id": "VrXYZNjO4LAz"
      },
      "outputs": [
        {
          "name": "stdout",
          "output_type": "stream",
          "text": [
            "Exercise 34 is correct.\n"
          ]
        }
      ],
      "source": [
        "# Exercise 34\n",
        "# Write a function definition named multiply that takes in two numbers and returns the first times the second argument.\n",
        "def multiply(a,b):\n",
        "    return a*b\n",
        "assert multiply(2, 1) == 2\n",
        "assert multiply(3, 5) == 15\n",
        "assert multiply(5, 2) == 10\n",
        "print(\"Exercise 34 is correct.\")"
      ]
    },
    {
      "cell_type": "code",
      "execution_count": null,
      "metadata": {
        "id": "oo_tA-gJ4LAz"
      },
      "outputs": [
        {
          "name": "stdout",
          "output_type": "stream",
          "text": [
            "Exercise 35 is correct.\n"
          ]
        }
      ],
      "source": [
        "# Exercise 35\n",
        "# Write a function definition named divide that takes in two numbers and returns the first argument divided by the second argument.\n",
        "def divide(a,b):\n",
        "    return a/b\n",
        "assert divide(27, 9) == 3\n",
        "assert divide(15, 3) == 5\n",
        "assert divide(5, 2) == 2.5\n",
        "assert divide(10, 2) == 5\n",
        "print(\"Exercise 35 is correct.\")"
      ]
    },
    {
      "cell_type": "code",
      "execution_count": null,
      "metadata": {
        "id": "cy4aAMKG4LAz"
      },
      "outputs": [
        {
          "name": "stdout",
          "output_type": "stream",
          "text": [
            "Exercise 36 is correct.\n"
          ]
        }
      ],
      "source": [
        "# Exercise 36\n",
        "# Write a function definition named quotient that takes in two numbers and returns only the quotient from dividing the first argument by the second argument.\n",
        "def quotient(a,b):\n",
        "    return a//b\n",
        "assert quotient(27, 9) == 3\n",
        "assert quotient(5, 2) == 2\n",
        "assert quotient(10, 3) == 3\n",
        "print(\"Exercise 36 is correct.\")"
      ]
    },
    {
      "cell_type": "code",
      "execution_count": null,
      "metadata": {},
      "outputs": [
        {
          "name": "stdout",
          "output_type": "stream",
          "text": [
            "4\n"
          ]
        }
      ],
      "source": [
        "a=64**(1/3)\n",
        "print(round(a))"
      ]
    },
    {
      "cell_type": "code",
      "execution_count": null,
      "metadata": {
        "id": "4O6LGRSw4LAz"
      },
      "outputs": [
        {
          "name": "stdout",
          "output_type": "stream",
          "text": [
            "Exercise 37 is correct.\n"
          ]
        }
      ],
      "source": [
        "# Exercise 37\n",
        "# Write a function definition named remainder that takes in two numbers and returns the remainder of first argument divided by the second argument.\n",
        "def remainder(a,b):\n",
        "    return a%b\n",
        "assert remainder(3, 3) == 0\n",
        "assert remainder(5, 2) == 1\n",
        "assert remainder(7, 5) == 2\n",
        "print(\"Exercise 37 is correct.\")"
      ]
    },
    {
      "cell_type": "code",
      "execution_count": null,
      "metadata": {
        "id": "crJIjIBJ4LA0"
      },
      "outputs": [
        {
          "name": "stdout",
          "output_type": "stream",
          "text": [
            "Exercise 38 is correct.\n"
          ]
        }
      ],
      "source": [
        "# Exercise 38\n",
        "# Write a function definition named sum_of_squares that takes in two numbers, squares each number, then returns the sum of both squares.\n",
        "def sum_of_squares(a,b):\n",
        "    return a**2 +b**2\n",
        "assert sum_of_squares(3, 2) == 13\n",
        "assert sum_of_squares(5, 2) == 29\n",
        "assert sum_of_squares(2, 4) == 20\n",
        "print(\"Exercise 38 is correct.\")"
      ]
    },
    {
      "cell_type": "code",
      "execution_count": null,
      "metadata": {
        "id": "hfNRslCK4LA0"
      },
      "outputs": [
        {
          "name": "stdout",
          "output_type": "stream",
          "text": [
            "Exercise 39 is correct.\n"
          ]
        }
      ],
      "source": [
        "# Exercise 39\n",
        "# Write a function definition named times_two_plus_three that takes in a number, multiplies it by two, adds 3 and returns the result.\n",
        "def times_two_plus_three(a):\n",
        "    return a*2 +3\n",
        "assert times_two_plus_three(0) == 3\n",
        "assert times_two_plus_three(1) == 5\n",
        "assert times_two_plus_three(2) == 7\n",
        "assert times_two_plus_three(3) == 9\n",
        "assert times_two_plus_three(5) == 13\n",
        "print(\"Exercise 39 is correct.\")"
      ]
    },
    {
      "cell_type": "code",
      "execution_count": null,
      "metadata": {
        "id": "FNRg1t5v4LA3"
      },
      "outputs": [
        {
          "name": "stdout",
          "output_type": "stream",
          "text": [
            "Exercise 40 is correct.\n"
          ]
        }
      ],
      "source": [
        "# Exercise 40\n",
        "# Write a function definition named area_of_rectangle that takes in two numbers and returns the product.\n",
        "def area_of_rectangle(a,b):\n",
        "    return a*b\n",
        "assert area_of_rectangle(1, 3) == 3\n",
        "assert area_of_rectangle(5, 2) == 10\n",
        "assert area_of_rectangle(2, 7) == 14\n",
        "assert area_of_rectangle(5.3, 10.3) == 54.59\n",
        "print(\"Exercise 40 is correct.\")"
      ]
    },
    {
      "cell_type": "code",
      "execution_count": null,
      "metadata": {
        "id": "sqqlavVi4LA3"
      },
      "outputs": [
        {
          "name": "stdout",
          "output_type": "stream",
          "text": [
            "Exercise 41 is correct.\n"
          ]
        }
      ],
      "source": [
        "import math\n",
        "# Exercise 41\n",
        "# Write a function definition named area_of_circle that takes in a number representing a circle's radius and returns the area of the circl\n",
        "import math\n",
        "def area_of_circle(r):\n",
        "    return math.pi*r**2\n",
        "assert area_of_circle(3) == 28.274333882308138\n",
        "assert area_of_circle(5) == 78.53981633974483\n",
        "assert area_of_circle(7) == 153.93804002589985\n",
        "print(\"Exercise 41 is correct.\")"
      ]
    },
    {
      "cell_type": "code",
      "execution_count": null,
      "metadata": {
        "id": "YEg9O22j4LA3"
      },
      "outputs": [
        {
          "name": "stdout",
          "output_type": "stream",
          "text": [
            "Exercise 42 is correct.\n"
          ]
        }
      ],
      "source": [
        "import math\n",
        "# Exercise 42\n",
        "# Write a function definition named circumference that takes in a number representing a circle's radius and returns the circumference.\n",
        "import math\n",
        "def circumference(r):\n",
        "    return 2*math.pi*r\n",
        "assert circumference(3) == 18.84955592153876\n",
        "assert circumference(5) == 31.41592653589793\n",
        "assert circumference(7) == 43.982297150257104\n",
        "print(\"Exercise 42 is correct.\")"
      ]
    },
    {
      "cell_type": "markdown",
      "metadata": {
        "id": "XdB9Ncn04LA4"
      },
      "source": [
        "## Functions working with strings\n",
        "If you need some guidance working with the next few problems, recommend reading through [this example code](https://gist.github.com/ryanorsinger/f758599c886549e7615ec43488ae514c)"
      ]
    },
    {
      "cell_type": "code",
      "execution_count": null,
      "metadata": {
        "id": "faXzSNoE4LA4"
      },
      "outputs": [
        {
          "name": "stdout",
          "output_type": "stream",
          "text": [
            "Exercise 43 is correct.\n"
          ]
        }
      ],
      "source": [
        "# Exercise 43\n",
        "# Write a function definition named is_vowel that takes in value and returns True if the value is a, e, i, o, u in upper or lower case.\n",
        "\n",
        "def is_vowel(value):\n",
        "    if value==\"a\" or value==\"e\" or value==\"i\" or value==\"o\" or value==\"u\" or value==\"A\" or value==\"E\" or value==\"I\" or value==\"O\" or value==\"U\" :\n",
        "        return True\n",
        "    else: return False\n",
        "    \n",
        "\n",
        "assert is_vowel(\"a\") == True\n",
        "assert is_vowel(\"e\") == True\n",
        "assert is_vowel(\"i\") == True\n",
        "assert is_vowel(\"o\") == True\n",
        "assert is_vowel(\"u\") == True\n",
        "assert is_vowel(\"A\") == True\n",
        "assert is_vowel(\"E\") == True\n",
        "assert is_vowel(\"I\") == True\n",
        "assert is_vowel(\"O\") == True\n",
        "assert is_vowel(\"U\") == True\n",
        "assert is_vowel(\"banana\") == False\n",
        "assert is_vowel(\"Q\") == False\n",
        "assert is_vowel(\"y\") == False\n",
        "assert is_vowel(\"aei\") == False\n",
        "assert is_vowel(\"iou\") == False\n",
        "print(\"Exercise 43 is correct.\")"
      ]
    },
    {
      "cell_type": "code",
      "execution_count": null,
      "metadata": {
        "id": "lvg2FpMM4LA4"
      },
      "outputs": [
        {
          "name": "stdout",
          "output_type": "stream",
          "text": [
            "Exercise 44 is correct.\n"
          ]
        }
      ],
      "source": [
        "# Exercise 44\n",
        "# Write a function definition named has_vowels that takes in value and returns True if the string contains any vowels.\n",
        "def has_vowels(value):\n",
        "    if \"a\" in value or \"e\" in value or \"i\" in value or \"o\" in value or \"u\" in value or \"A\" in value or \"E\" in value or \"I\" in value or \"O\" in value or \"U\" in value:\n",
        "        return True\n",
        "    else:return False\n",
        "assert has_vowels(\"banana\") == True\n",
        "assert has_vowels(\"ubuntu\") == True\n",
        "assert has_vowels(\"QQQQ\") == False\n",
        "assert has_vowels(\"wyrd\") == False\n",
        "print(\"Exercise 44 is correct.\")"
      ]
    },
    {
      "cell_type": "code",
      "execution_count": null,
      "metadata": {
        "id": "-FYXidDB4LA5"
      },
      "outputs": [
        {
          "name": "stdout",
          "output_type": "stream",
          "text": [
            "Number of vowels: 3\n",
            "Exercise 45 is correct.\n"
          ]
        }
      ],
      "source": [
        "# Exercise 45\n",
        "# Write a function definition named count_vowels that takes in value and returns the count of the nubmer of vowels in a sequence.\n",
        "def count_vowels(string):\n",
        "    vowels = 'aeiouAEIOU'\n",
        "    count = 0\n",
        "    for char in string:\n",
        "        if char in vowels:\n",
        "            count += 1\n",
        "    return count\n",
        "\n",
        "# Example usage:\n",
        "input_string = \"Hello World\"\n",
        "print(\"Number of vowels:\", count_vowels(input_string))\n",
        "\n",
        "assert count_vowels(\"banana\") == 3\n",
        "assert count_vowels(\"ubuntu\") == 3\n",
        "assert count_vowels(\"mango\") == 2\n",
        "assert count_vowels(\"QQQQ\") == 0\n",
        "assert count_vowels(\"wyrd\") == 0\n",
        "print(\"Exercise 45 is correct.\")"
      ]
    },
    {
      "cell_type": "code",
      "execution_count": null,
      "metadata": {
        "id": "ZIL7ZFpz4LA5"
      },
      "outputs": [
        {
          "name": "stdout",
          "output_type": "stream",
          "text": [
            "Exercise 46 is correct.\n"
          ]
        }
      ],
      "source": [
        "# Exercise 46\n",
        "# Write a function definition named remove_vowels that takes in string and returns the string without any vowels\n",
        "def remove_vowels(str):\n",
        " vowels='aeiouAEIOU'\n",
        " return ''.join(char for char in str if char not in vowels)\n",
        "assert remove_vowels(\"banana\") == \"bnn\"\n",
        "assert remove_vowels(\"ubuntu\") == \"bnt\"\n",
        "assert remove_vowels(\"mango\") == \"mng\"\n",
        "assert remove_vowels(\"QQQQ\") == \"QQQQ\"\n",
        "print(\"Exercise 46 is correct.\")"
      ]
    },
    {
      "cell_type": "code",
      "execution_count": null,
      "metadata": {
        "id": "KiSVDG634LA5"
      },
      "outputs": [
        {
          "name": "stdout",
          "output_type": "stream",
          "text": [
            "Exercise 47 is correct.\n"
          ]
        }
      ],
      "source": [
        "# Exercise 47\n",
        "# Write a function definition named starts_with_vowel that takes in string and True if the string starts with a vowel\n",
        "def starts_with_vowel(str):\n",
        "    vowels='aeiouAEIOU'\n",
        "    if str[0] in vowels:\n",
        "        return True\n",
        "    else:return False\n",
        "assert starts_with_vowel(\"ubuntu\") == True\n",
        "assert starts_with_vowel(\"banana\") == False\n",
        "assert starts_with_vowel(\"mango\") == False\n",
        "print(\"Exercise 47 is correct.\")"
      ]
    },
    {
      "cell_type": "code",
      "execution_count": null,
      "metadata": {
        "id": "PNm1se0s4LA5"
      },
      "outputs": [
        {
          "name": "stdout",
          "output_type": "stream",
          "text": [
            "Exercise 48 is correct.\n"
          ]
        }
      ],
      "source": [
        "# Exercise 48\n",
        "# Write a function definition named ends_with_vowel that takes in string and True if the string ends with a vowel\n",
        "def ends_with_vowel(str):\n",
        "    vowels='aeiouAEIOU'\n",
        "    if str[-1] in vowels:\n",
        "        return True\n",
        "    else:\n",
        "        return False\n",
        "assert ends_with_vowel(\"ubuntu\") == True\n",
        "assert ends_with_vowel(\"banana\") == True\n",
        "assert ends_with_vowel(\"mango\") == True\n",
        "assert ends_with_vowel(\"spinach\") == False\n",
        "print(\"Exercise 48 is correct.\")"
      ]
    },
    {
      "cell_type": "code",
      "execution_count": null,
      "metadata": {
        "id": "y4IU7mu04LA6"
      },
      "outputs": [
        {
          "name": "stdout",
          "output_type": "stream",
          "text": [
            "Exercise 49 is correct.\n"
          ]
        }
      ],
      "source": [
        "# Exercise 49\n",
        "# Write a function definition named starts_and_ends_with_vowel that takes in string and returns True if the string starts and ends with a vowel\n",
        "def starts_and_ends_with_vowel(str):\n",
        "    vowels='aeiouAEIOU'\n",
        "    if str[0] in vowels  and str[-1] in vowels:\n",
        "        return True\n",
        "    else:\n",
        "        return False\n",
        "assert starts_and_ends_with_vowel(\"ubuntu\") == True\n",
        "assert starts_and_ends_with_vowel(\"banana\") == False\n",
        "assert starts_and_ends_with_vowel(\"mango\") == False\n",
        "print(\"Exercise 49 is correct.\")"
      ]
    },
    {
      "cell_type": "markdown",
      "metadata": {
        "id": "CEJFL71N4LA6"
      },
      "source": [
        "## Accessing List Elements"
      ]
    },
    {
      "cell_type": "code",
      "execution_count": null,
      "metadata": {
        "id": "HWm2Pnlx4LA6"
      },
      "outputs": [
        {
          "name": "stdout",
          "output_type": "stream",
          "text": [
            "Exercise 50 is correct.\n"
          ]
        }
      ],
      "source": [
        "# Exercise 50\n",
        "# Write a function definition named first that takes in sequence and returns the first value of that sequence.\n",
        "def first(value):\n",
        "    return value[0]\n",
        "assert first(\"ubuntu\") == \"u\"\n",
        "assert first([1, 2, 3]) == 1\n",
        "assert first([\"python\", \"is\", \"awesome\"]) == \"python\"\n",
        "print(\"Exercise 50 is correct.\")"
      ]
    },
    {
      "cell_type": "code",
      "execution_count": null,
      "metadata": {
        "id": "EVXBrEDN4LA6"
      },
      "outputs": [
        {
          "name": "stdout",
          "output_type": "stream",
          "text": [
            "Exercise 51 is correct.\n"
          ]
        }
      ],
      "source": [
        "# Exercise 51\n",
        "# Write a function definition named second that takes in sequence and returns the second value of that sequence.\n",
        "def second(str):\n",
        "    return str[1]\n",
        "assert second(\"ubuntu\") == \"b\"\n",
        "assert second([1, 2, 3]) == 2\n",
        "assert second([\"python\", \"is\", \"awesome\"]) == \"is\"\n",
        "print(\"Exercise 51 is correct.\")"
      ]
    },
    {
      "cell_type": "code",
      "execution_count": null,
      "metadata": {
        "id": "98BpXyjp4LA7"
      },
      "outputs": [
        {
          "name": "stdout",
          "output_type": "stream",
          "text": [
            "Exercise 52 is correct.\n"
          ]
        }
      ],
      "source": [
        "# Exercise 52\n",
        "# Write a function definition named third that takes in sequence and returns the third value of that sequence.\n",
        "def third(str):\n",
        "    return str[2]\n",
        "assert third(\"ubuntu\") == \"u\"\n",
        "assert third([1, 2, 3]) == 3\n",
        "assert third([\"python\", \"is\", \"awesome\"]) == \"awesome\"\n",
        "print(\"Exercise 52 is correct.\")"
      ]
    },
    {
      "cell_type": "code",
      "execution_count": null,
      "metadata": {
        "id": "u2TWFi6h4LA7"
      },
      "outputs": [
        {
          "name": "stdout",
          "output_type": "stream",
          "text": [
            "Exercise 53 is correct.\n"
          ]
        }
      ],
      "source": [
        "# Exercise 53\n",
        "# Write a function definition named forth that takes in sequence and returns the forth value of that sequence.\n",
        "def forth(str):\n",
        "    return str[3]\n",
        "assert forth(\"ubuntu\") == \"n\"\n",
        "assert forth([1, 2, 3, 4]) == 4\n",
        "assert forth([\"python\", \"is\", \"awesome\", \"right?\"]) == \"right?\"\n",
        "print(\"Exercise 53 is correct.\")"
      ]
    },
    {
      "cell_type": "code",
      "execution_count": null,
      "metadata": {
        "id": "GjbOaT-a4LA7"
      },
      "outputs": [
        {
          "name": "stdout",
          "output_type": "stream",
          "text": [
            "Exercise 54 is correct.\n"
          ]
        }
      ],
      "source": [
        "# Exercise 54\n",
        "# Write a function definition named last that takes in sequence and returns the last value of that sequence.\n",
        "def last(str):\n",
        "    return str[-1]\n",
        "assert last(\"ubuntu\") == \"u\"\n",
        "assert last([1, 2, 3, 4]) == 4\n",
        "assert last([\"python\", \"is\", \"awesome\"]) == \"awesome\"\n",
        "assert last([\"kiwi\", \"mango\", \"guava\"]) == \"guava\"\n",
        "print(\"Exercise 54 is correct.\")"
      ]
    },
    {
      "cell_type": "code",
      "execution_count": null,
      "metadata": {
        "id": "zbEi_42M4LA7"
      },
      "outputs": [
        {
          "name": "stdout",
          "output_type": "stream",
          "text": [
            "Exercise 55 is correct.\n"
          ]
        }
      ],
      "source": [
        "# Exercise 55\n",
        "# Write a function definition named second_to_last that takes in sequence and returns the second to last value of that sequence.\n",
        "def second_to_last(str):\n",
        "    return str[-2]\n",
        "assert second_to_last(\"ubuntu\") == \"t\"\n",
        "assert second_to_last([1, 2, 3, 4]) == 3\n",
        "assert second_to_last([\"python\", \"is\", \"awesome\"]) == \"is\"\n",
        "assert second_to_last([\"kiwi\", \"mango\", \"guava\"]) == \"mango\"\n",
        "print(\"Exercise 55 is correct.\")"
      ]
    },
    {
      "cell_type": "code",
      "execution_count": null,
      "metadata": {
        "id": "RkSAcdBP4LA8"
      },
      "outputs": [
        {
          "name": "stdout",
          "output_type": "stream",
          "text": [
            "Exercise 56 is correct.\n"
          ]
        }
      ],
      "source": [
        "# Exercise 56\n",
        "# Write a function definition named third_to_last that takes in sequence and returns the third to last value of that sequence.\n",
        "def third_to_last(str):\n",
        "    return str[-3]\n",
        "assert third_to_last(\"ubuntu\") == \"n\"\n",
        "assert third_to_last([1, 2, 3, 4]) == 2\n",
        "assert third_to_last([\"python\", \"is\", \"awesome\"]) == \"python\"\n",
        "assert third_to_last([\"strawberry\", \"kiwi\", \"mango\", \"guava\"]) == \"kiwi\"\n",
        "print(\"Exercise 56 is correct.\")"
      ]
    },
    {
      "cell_type": "code",
      "execution_count": null,
      "metadata": {
        "id": "O0Vkup7O4LA8"
      },
      "outputs": [
        {
          "name": "stdout",
          "output_type": "stream",
          "text": [
            "Exercise 57 is correct.\n"
          ]
        }
      ],
      "source": [
        "# Exercise 57\n",
        "# Write a function definition named first_and_second that takes in sequence and returns the first and second value of that sequence as a list\n",
        "def first_and_second(list):\n",
        "    return list[:2]\n",
        "assert first_and_second([1, 2, 3, 4]) == [1, 2]\n",
        "assert first_and_second([\"python\", \"is\", \"awesome\"]) == [\"python\", \"is\"]\n",
        "assert first_and_second([\"strawberry\", \"kiwi\", \"mango\", \"guava\"]) == [\"strawberry\", \"kiwi\"]\n",
        "print(\"Exercise 57 is correct.\")"
      ]
    },
    {
      "cell_type": "code",
      "execution_count": null,
      "metadata": {
        "id": "OPjSZvh04LA8"
      },
      "outputs": [
        {
          "name": "stdout",
          "output_type": "stream",
          "text": [
            "Exercise 58 is correct.\n"
          ]
        }
      ],
      "source": [
        "# Exercise 58\n",
        "# Write a function definition named first_and_last that takes in sequence and returns the first and last value of that sequence as a list\n",
        "def first_and_last(list):\n",
        "    return [list[0],list[-1]]\n",
        "assert first_and_last([1, 2, 3, 4]) == [1, 4]\n",
        "assert first_and_last([\"python\", \"is\", \"awesome\"]) == [\"python\", \"awesome\"]\n",
        "assert first_and_last([\"strawberry\", \"kiwi\", \"mango\", \"guava\"]) == [\"strawberry\", \"guava\"]\n",
        "print(\"Exercise 58 is correct.\")"
      ]
    },
    {
      "cell_type": "code",
      "execution_count": null,
      "metadata": {
        "id": "cpwTExYz4LA8"
      },
      "outputs": [
        {
          "name": "stdout",
          "output_type": "stream",
          "text": [
            "Exercise 59 is correct.\n"
          ]
        }
      ],
      "source": [
        "# Exercise 59\n",
        "# Write a function definition named first_to_last that takes in sequence and returns the sequence with the first value moved to the end of the sequence.\n",
        "def first_to_last(list):\n",
        " first=list[0]\n",
        " return list[1:]+[first]\n",
        "\n",
        "assert first_to_last([1, 2, 3, 4]) == [2, 3, 4, 1]\n",
        "assert first_to_last([\"python\", \"is\", \"awesome\"]) == [\"is\", \"awesome\", \"python\"]\n",
        "assert first_to_last([\"strawberry\", \"kiwi\", \"mango\", \"guava\"]) == [\"kiwi\", \"mango\", \"guava\", \"strawberry\"]\n",
        "print(\"Exercise 59 is correct.\")"
      ]
    },
    {
      "cell_type": "markdown",
      "metadata": {
        "id": "HTd3kW-t4LA8"
      },
      "source": [
        "## Functions to describe data"
      ]
    },
    {
      "cell_type": "code",
      "execution_count": null,
      "metadata": {
        "id": "uik2EqoV4LA9"
      },
      "outputs": [
        {
          "name": "stdout",
          "output_type": "stream",
          "text": [
            "Exercise 60 is correct.\n"
          ]
        }
      ],
      "source": [
        "# Exercise 60\n",
        "# Write a function definition named sum_all that takes in sequence of numbers and returns all the numbers added together.\n",
        "def sum_all(list):\n",
        "    return sum(list)\n",
        "assert sum_all([1, 2, 3, 4]) == 10\n",
        "assert sum_all([3, 3, 3]) == 9\n",
        "assert sum_all([0, 5, 6]) == 11\n",
        "print(\"Exercise 60 is correct.\")"
      ]
    },
    {
      "cell_type": "code",
      "execution_count": null,
      "metadata": {
        "id": "j8QkYJxp4LA9"
      },
      "outputs": [
        {
          "name": "stdout",
          "output_type": "stream",
          "text": [
            "Exercise 61 is correct.\n"
          ]
        }
      ],
      "source": [
        "# Exercise 61\n",
        "# Write a function definition named mean that takes in sequence of numbers and returns the average value\n",
        "def mean(list):\n",
        "    return sum(list)/len(list)\n",
        "assert mean([1, 2, 3, 4]) == 2.5\n",
        "assert mean([3, 3, 3]) == 3\n",
        "assert mean([1, 5, 6]) == 4\n",
        "print(\"Exercise 61 is correct.\")"
      ]
    },
    {
      "cell_type": "code",
      "execution_count": null,
      "metadata": {
        "id": "U3VC8wBb4LA9"
      },
      "outputs": [
        {
          "name": "stdout",
          "output_type": "stream",
          "text": [
            "Exercise 62 is correct.\n"
          ]
        }
      ],
      "source": [
        "# Exercise 62\n",
        "# Write a function definition named median that takes in sequence of numbers and returns the average value\n",
        "def median(list):\n",
        "    list.sort()\n",
        "    n=len(list)\n",
        "    if n%2==1:\n",
        "        return list[n//2]\n",
        "    else:\n",
        "        right=list[n//2]\n",
        "        left=list[n//2-1]\n",
        "        return (right+left)/2\n",
        "assert median([1, 2, 3, 4, 5]) == 3.0\n",
        "assert median([1, 2, 3]) == 2.0\n",
        "assert median([1, 5, 6]) == 5.0\n",
        "assert median([1, 2, 5, 6]) == 3.5\n",
        "print(\"Exercise 62 is correct.\")"
      ]
    },
    {
      "cell_type": "code",
      "execution_count": null,
      "metadata": {
        "id": "jM0KStsl4LA9"
      },
      "outputs": [
        {
          "name": "stdout",
          "output_type": "stream",
          "text": [
            "Exercise 63 is correct.\n"
          ]
        }
      ],
      "source": [
        "# Exercise 63\n",
        "# Write a function definition named mode that takes in sequence of numbers and returns the most commonly occuring value\n",
        "def count_n(list, i):\n",
        " count = 0\n",
        " for j in  list:\n",
        "  if i == j: count+=1\n",
        " return count\n",
        "\n",
        "def mode(list):\n",
        " count=0\n",
        " mode_num = 4\n",
        " for i in set(list): # {1,2,3,4}\n",
        "#   count of i in the list \n",
        "#   count = list.count(i)\n",
        "  if count < count_n(list, i):\n",
        "   mode_num = i\n",
        "   count = count_n(list, i)\n",
        " return mode_num\n",
        " \n",
        "\n",
        "assert mode([1, 2, 2, 3, 4]) == 2\n",
        "assert mode([1, 1, 2, 3]) == 1\n",
        "assert mode([2, 2, 3, 3, 3]) == 3\n",
        "print(\"Exercise 63 is correct.\")"
      ]
    },
    {
      "cell_type": "code",
      "execution_count": null,
      "metadata": {
        "id": "JmpcdF-F4LA-"
      },
      "outputs": [
        {
          "name": "stdout",
          "output_type": "stream",
          "text": [
            "Exercise 64 is correct.\n"
          ]
        }
      ],
      "source": [
        "# Exercise 64\n",
        "# Write a function definition named product_of_all that takes in sequence of numbers and returns the product of multiplying all the numbers together\n",
        "def product_of_all(numbers):\n",
        "    result=1\n",
        "    for num in numbers:\n",
        "        result *= num\n",
        "    return result\n",
        "assert product_of_all([1, 2, 3]) == 6\n",
        "assert product_of_all([3, 4, 5]) == 60\n",
        "assert product_of_all([2, 2, 3, 0]) == 0\n",
        "print(\"Exercise 64 is correct.\")"
      ]
    },
    {
      "cell_type": "markdown",
      "metadata": {
        "id": "BL07LhVw4LA-"
      },
      "source": [
        "## Applying functions to lists"
      ]
    },
    {
      "cell_type": "code",
      "execution_count": null,
      "metadata": {
        "id": "1Fi8gCUd4LA-"
      },
      "outputs": [
        {
          "name": "stdout",
          "output_type": "stream",
          "text": [
            "Exercise 65 is correct.\n"
          ]
        }
      ],
      "source": [
        "# Exercise 65\n",
        "# Write a function definition named get_highest_number that takes in sequence of numbers and returns the largest number.\n",
        "def get_highest_number(list):\n",
        "    list.sort()\n",
        "    return list[-1]\n",
        "assert get_highest_number([1, 2, 3]) == 3\n",
        "assert get_highest_number([-5, -4, -3, -2, -1, 1, 2, 3, 4, 5]) == 5\n",
        "assert get_highest_number([-5, -3, 1]) == 1\n",
        "print(\"Exercise 65 is correct.\")"
      ]
    },
    {
      "cell_type": "code",
      "execution_count": null,
      "metadata": {
        "id": "lVW35-iH4LA_"
      },
      "outputs": [
        {
          "name": "stdout",
          "output_type": "stream",
          "text": [
            "Exercise 66 is correct.\n"
          ]
        }
      ],
      "source": [
        "# Exercise 66\n",
        "# Write a function definition named get_smallest_number that takes in sequence of numbers and returns the smallest number.\n",
        "def get_smallest_number(list):\n",
        "    list.sort()\n",
        "    return list[0]\n",
        "assert get_smallest_number([1, 3, 2]) == 1\n",
        "assert get_smallest_number([5, -5, -4, -3, -2, -1, 1, 2, 3, 4]) == -5\n",
        "assert get_smallest_number([-4, -3, 1, -10]) == -10\n",
        "print(\"Exercise 66 is correct.\")"
      ]
    },
    {
      "cell_type": "code",
      "execution_count": null,
      "metadata": {
        "id": "msXnl3ul4LA_"
      },
      "outputs": [
        {
          "name": "stdout",
          "output_type": "stream",
          "text": [
            "Exercise 67 is correct.\n"
          ]
        }
      ],
      "source": [
        "# Exercise 67\n",
        "# Write a function definition named only_odd_numbers that takes in sequence of numbers and returns the odd numbers in a list.\n",
        "def only_odd_numbers(list):\n",
        "    list=[num for num in list if num%2==1]\n",
        "    return list\n",
        "assert only_odd_numbers([1, 2, 3]) == [1, 3]\n",
        "assert only_odd_numbers([-5, -4, -3, -2, -1, 1, 2, 3, 4, 5]) == [-5, -3, -1, 1, 3, 5]\n",
        "assert only_odd_numbers([-4, -3, 1]) == [-3, 1]\n",
        "assert only_odd_numbers([2, 2, 2, 2, 2]) == []\n",
        "print(\"Exercise 67 is correct.\")"
      ]
    },
    {
      "cell_type": "code",
      "execution_count": null,
      "metadata": {
        "id": "kdsw7XVD4LA_"
      },
      "outputs": [
        {
          "name": "stdout",
          "output_type": "stream",
          "text": [
            "Exercise 68 is correct.\n"
          ]
        }
      ],
      "source": [
        "# Exercise 68\n",
        "# Write a function definition named only_even_numbers that takes in sequence of numbers and returns the even numbers in a list.\n",
        "def only_even_numbers(list):\n",
        " list=[num for num in list if num%2==0]\n",
        " return list\n",
        "assert only_even_numbers([1, 2, 3]) == [2]\n",
        "assert only_even_numbers([-5, -4, -3, -2, -1, 1, 2, 3, 4, 5]) == [-4, -2, 2, 4]\n",
        "assert only_even_numbers([-4, -3, 1]) == [-4]\n",
        "assert only_even_numbers([1, 1, 1, 1, 1, 1]) == []\n",
        "print(\"Exercise 68 is correct.\")"
      ]
    },
    {
      "cell_type": "code",
      "execution_count": null,
      "metadata": {
        "id": "3AYi9ZOl4LA_"
      },
      "outputs": [
        {
          "name": "stdout",
          "output_type": "stream",
          "text": [
            "Exercise 69 is correct.\n"
          ]
        }
      ],
      "source": [
        "# Exercise 69\n",
        "# Write a function definition named only_positive_numbers that takes in sequence of numbers and returns the positive numbers in a list.\n",
        "def only_positive_numbers(list):\n",
        "    list=[num for num in list if num>0]\n",
        "    return list\n",
        "assert only_positive_numbers([1, 2, 3]) == [1, 2, 3]\n",
        "assert only_positive_numbers([-5, -4, -3, -2, -1, 1, 2, 3, 4, 5]) == [1, 2, 3, 4, 5]\n",
        "assert only_positive_numbers([-4, -3, 1]) == [1]\n",
        "print(\"Exercise 69 is correct.\")"
      ]
    },
    {
      "cell_type": "code",
      "execution_count": null,
      "metadata": {
        "id": "tVL_-G2F4LA_"
      },
      "outputs": [
        {
          "name": "stdout",
          "output_type": "stream",
          "text": [
            "Exercise 70 is correct.\n"
          ]
        }
      ],
      "source": [
        "# Exercise 70\n",
        "# Write a function definition named only_negative_numbers that takes in sequence of numbers and returns the negative numbers in a list.\n",
        "def only_negative_numbers(list):\n",
        "    list=[num for num in list if num<0]\n",
        "    return list\n",
        "assert only_negative_numbers([1, 2, 3]) == []\n",
        "assert only_negative_numbers([-5, -4, -3, -2, -1, 1, 2, 3, 4, 5]) == [-5, -4, -3, -2, -1]\n",
        "assert only_negative_numbers([-4, -3, 1]) == [-4, -3]\n",
        "print(\"Exercise 70 is correct.\")"
      ]
    },
    {
      "cell_type": "code",
      "execution_count": null,
      "metadata": {
        "id": "qsZ6y5NT4LBA"
      },
      "outputs": [
        {
          "name": "stdout",
          "output_type": "stream",
          "text": [
            "Exercise 71 is correct.\n"
          ]
        }
      ],
      "source": [
        "# Exercise 71\n",
        "# Write a function definition named has_evens that takes in sequence of numbers and returns True if there are any even numbers in the sequence\n",
        "def has_evens(list):\n",
        "    for num in list:\n",
        "        if num%2==0:\n",
        "         return True\n",
        "    return False\n",
        "assert has_evens([1, 2, 3]) == True\n",
        "assert has_evens([2, 5, 6]) == True\n",
        "assert has_evens([3, 3, 3]) == False\n",
        "assert has_evens([]) == False\n",
        "print(\"Exercise 71 is correct.\")"
      ]
    },
    {
      "cell_type": "code",
      "execution_count": null,
      "metadata": {
        "id": "0PEMQSj84LBA"
      },
      "outputs": [
        {
          "name": "stdout",
          "output_type": "stream",
          "text": [
            "Exercise 72 is correct.\n"
          ]
        }
      ],
      "source": [
        "# Exercise 72\n",
        "# Write a function definition named count_evens that takes in sequence of numbers and returns the number of even numbers\n",
        "def count_evens(list):\n",
        "    count=0\n",
        "    for num in list:\n",
        "        if num%2==0:\n",
        "            count+=1\n",
        "    return count       \n",
        "assert count_evens([1, 2, 3]) == 1\n",
        "assert count_evens([2, 5, 6]) == 2\n",
        "assert count_evens([3, 3, 3]) == 0\n",
        "assert count_evens([5, 6, 7, 8] ) == 2\n",
        "print(\"Exercise 72 is correct.\")"
      ]
    },
    {
      "cell_type": "code",
      "execution_count": null,
      "metadata": {
        "id": "rx0GfJg34LBA"
      },
      "outputs": [
        {
          "name": "stdout",
          "output_type": "stream",
          "text": [
            "Exercise 73 is correct.\n"
          ]
        }
      ],
      "source": [
        "# Exercise 73\n",
        "# Write a function definition named has_odds that takes in sequence of numbers and returns True if there are any odd numbers in the sequence\n",
        "def has_odds(list):\n",
        "    for num in list:\n",
        "        if num%2==1:\n",
        "            return True\n",
        "    return False    \n",
        "                 \n",
        "assert has_odds([1, 2, 3]) == True\n",
        "assert has_odds([2, 5, 6]) == True\n",
        "assert has_odds([3, 3, 3]) == True\n",
        "assert has_odds([2, 4, 6]) == False\n",
        "print(\"Exercise 73 is correct.\")"
      ]
    },
    {
      "cell_type": "code",
      "execution_count": null,
      "metadata": {
        "id": "CygrFyfc4LBA"
      },
      "outputs": [
        {
          "name": "stdout",
          "output_type": "stream",
          "text": [
            "Exercise 74 is correct.\n"
          ]
        }
      ],
      "source": [
        "# Exercise 74\n",
        "# Write a function definition named count_odds that takes in sequence of numbers and returns True if there are any odd numbers in the sequence\n",
        "def count_odds(list):\n",
        " count =0\n",
        " for num in list:\n",
        "  if num%2==1:\n",
        "   count+=1\n",
        " return count    \n",
        "assert count_odds([1, 2, 3]) == 2\n",
        "assert count_odds([2, 5, 6]) == 1\n",
        "assert count_odds([3, 3, 3]) == 3\n",
        "assert count_odds([2, 4, 6]) == 0\n",
        "print(\"Exercise 74 is correct.\")"
      ]
    },
    {
      "cell_type": "code",
      "execution_count": null,
      "metadata": {
        "id": "p4BRg6qo4LBB"
      },
      "outputs": [
        {
          "name": "stdout",
          "output_type": "stream",
          "text": [
            "Exercise 75 is correct.\n"
          ]
        }
      ],
      "source": [
        "# Exercise 75\n",
        "# Write a function definition named count_negatives that takes in sequence of numbers and returns a count of the number of negative numbers\n",
        "def count_negatives(list):\n",
        "    count=0\n",
        "    for num in list:\n",
        "        if num<0:\n",
        "            count+=1\n",
        "    return count       \n",
        "assert count_negatives([1, -2, 3]) == 1\n",
        "assert count_negatives([2, -5, -6]) == 2\n",
        "assert count_negatives([3, 3, 3]) == 0\n",
        "print(\"Exercise 75 is correct.\")"
      ]
    },
    {
      "cell_type": "code",
      "execution_count": null,
      "metadata": {
        "id": "Z56gehjq4LBB"
      },
      "outputs": [
        {
          "name": "stdout",
          "output_type": "stream",
          "text": [
            "Exercise 76 is correct.\n"
          ]
        }
      ],
      "source": [
        "# Exercise 76\n",
        "# Write a function definition named count_positives that takes in sequence of numbers and returns a count of the number of positive numbers\n",
        "def count_positives(list):\n",
        "    count=0\n",
        "    for num in list:\n",
        "        if num>0:\n",
        "            count+=1\n",
        "    return count \n",
        "assert count_positives([1, -2, 3]) == 2\n",
        "assert count_positives([2, -5, -6]) == 1\n",
        "assert count_positives([3, 3, 3]) == 3\n",
        "assert count_positives([-2, -1, -5]) == 0\n",
        "print(\"Exercise 76 is correct.\")"
      ]
    },
    {
      "cell_type": "code",
      "execution_count": null,
      "metadata": {
        "id": "JhtY267B4LBB"
      },
      "outputs": [
        {
          "name": "stdout",
          "output_type": "stream",
          "text": [
            "Exercise 77 is correct.\n"
          ]
        }
      ],
      "source": [
        "# Exercise 77\n",
        "# Write a function definition named only_positive_evens that takes in sequence of numbers and returns a list containing all the positive evens from the sequence\n",
        "def only_positive_evens(list):\n",
        "    list=[num for num in list if num>0 and  num%2==0]\n",
        "    return list\n",
        "assert only_positive_evens([1, -2, 3]) == []\n",
        "assert only_positive_evens([2, -5, -6]) == [2]\n",
        "assert only_positive_evens([3, 3, 4, 6]) == [4, 6]\n",
        "assert only_positive_evens([2, 3, 4, -1, -5]) == [2, 4]\n",
        "print(\"Exercise 77 is correct.\")"
      ]
    },
    {
      "cell_type": "code",
      "execution_count": null,
      "metadata": {
        "id": "1eg7zZuV4LBB"
      },
      "outputs": [
        {
          "name": "stdout",
          "output_type": "stream",
          "text": [
            "Exercise 78 is correct.\n"
          ]
        }
      ],
      "source": [
        "# Exercise 78\n",
        "# Write a function definition named only_positive_odds that takes in sequence of numbers and returns a list containing all the positive odd numbers from the sequence\n",
        "def only_positive_odds(list):\n",
        "    list=[num for num in list if num>0 and num%2==1]\n",
        "    return list\n",
        "\n",
        "assert only_positive_odds([1, -2, 3]) == [1, 3]\n",
        "assert only_positive_odds([2, -5, -6]) == []\n",
        "assert only_positive_odds([3, 3, 4, 6]) == [3, 3]\n",
        "assert only_positive_odds([2, 3, 4, -1, -5]) == [3]\n",
        "print(\"Exercise 78 is correct.\")"
      ]
    },
    {
      "cell_type": "code",
      "execution_count": null,
      "metadata": {
        "id": "4bFLC06f4LBB"
      },
      "outputs": [
        {
          "name": "stdout",
          "output_type": "stream",
          "text": [
            "Exercise 79 is correct.\n"
          ]
        }
      ],
      "source": [
        "# Exercise 79\n",
        "# Write a function definition named only_negative_evens that takes in sequence of numbers and returns a list containing all the negative even numbers from the sequence\n",
        "def only_negative_evens(list):\n",
        "    list=[num for num in list if num<0 and num%2==0]\n",
        "    return list\n",
        "assert only_negative_evens([1, -2, 3]) == [-2]\n",
        "assert only_negative_evens([2, -5, -6]) == [-6]\n",
        "assert only_negative_evens([3, 3, 4, 6]) == []\n",
        "assert only_negative_evens([-2, 3, 4, -1, -4]) == [-2, -4]\n",
        "print(\"Exercise 79 is correct.\")"
      ]
    },
    {
      "cell_type": "code",
      "execution_count": null,
      "metadata": {
        "id": "SVs5z-8Q4LBB"
      },
      "outputs": [
        {
          "name": "stdout",
          "output_type": "stream",
          "text": [
            "Exercise 80 is correct.\n"
          ]
        }
      ],
      "source": [
        "# Exercise 80\n",
        "# Write a function definition named only_negative_odds that takes in sequence of numbers and returns a list containing all the negative odd numbers from the sequence\n",
        "def only_negative_odds(list):\n",
        "    list=[num for num in list if num<0 and num%2!=0]\n",
        "    return list\n",
        "assert only_negative_odds([1, -2, 3]) == []\n",
        "assert only_negative_odds([2, -5, -6]) == [-5]\n",
        "assert only_negative_odds([3, 3, 4, 6]) == []\n",
        "assert only_negative_odds([2, -3, 4, -1, -4]) == [-3, -1]\n",
        "print(\"Exercise 80 is correct.\")"
      ]
    },
    {
      "cell_type": "code",
      "execution_count": null,
      "metadata": {
        "id": "23eZqK_k4LBC"
      },
      "outputs": [
        {
          "name": "stdout",
          "output_type": "stream",
          "text": [
            "Exercise 81 is correct.\n"
          ]
        }
      ],
      "source": [
        "# Exercise 81\n",
        "# Write a function definition named shortest_string that takes in a list of strings and returns the shortest string in the list.\n",
        "def shortest_string(list):\n",
        "       shortest=list[0]\n",
        "       for ele in list:\n",
        "        if len(ele)<len(shortest):\n",
        "           shortest=ele\n",
        "       return shortest                \n",
        "assert shortest_string([\"kiwi\", \"mango\", \"strawberry\"]) == \"kiwi\"\n",
        "assert shortest_string([\"hello\", \"everybody\"]) == \"hello\"\n",
        "assert shortest_string([\"mary\", \"had\", \"a\", \"little\", \"lamb\"]) == \"a\"\n",
        "print(\"Exercise 81 is correct.\")"
      ]
    },
    {
      "cell_type": "code",
      "execution_count": null,
      "metadata": {
        "id": "ha5LFeIg4LBC"
      },
      "outputs": [
        {
          "name": "stdout",
          "output_type": "stream",
          "text": [
            "Exercise 82 is correct.\n"
          ]
        }
      ],
      "source": [
        "# Exercise 82\n",
        "# Write a function definition named longest_string that takes in sequence of strings and returns the longest string in the list.\n",
        "def longest_string(list):\n",
        "    longest=list[0]\n",
        "    for ele in list:\n",
        "        if len(ele)>len(longest):\n",
        "            longest=ele\n",
        "    return longest        \n",
        "assert longest_string([\"kiwi\", \"mango\", \"strawberry\"]) == \"strawberry\"\n",
        "assert longest_string([\"hello\", \"everybody\"]) == \"everybody\"\n",
        "assert longest_string([\"mary\", \"had\", \"a\", \"little\", \"lamb\"]) == \"little\"\n",
        "print(\"Exercise 82 is correct.\")"
      ]
    },
    {
      "cell_type": "markdown",
      "metadata": {
        "id": "5WOqck5Z4LBC"
      },
      "source": [
        "## Working with sets\n",
        "**Hint** Take a look at the `set` function in Python, the `set` data type, and built-in `set` methods."
      ]
    },
    {
      "cell_type": "code",
      "execution_count": null,
      "metadata": {
        "id": "dN-XGzpO4LBC"
      },
      "outputs": [
        {
          "name": "stdout",
          "output_type": "stream",
          "text": [
            "{'w', 'i', 'k'}\n",
            "{1, 2, 3, 4}\n"
          ]
        }
      ],
      "source": [
        "# Example set function usage\n",
        "print(set(\"kiwi\"))\n",
        "print(set([1, 2, 2, 3, 3, 3, 4, 4, 4, 4]))"
      ]
    },
    {
      "cell_type": "code",
      "execution_count": null,
      "metadata": {
        "id": "TVIKCqDQ4LBC"
      },
      "outputs": [
        {
          "name": "stdout",
          "output_type": "stream",
          "text": [
            "Exercise 83 is correct.\n"
          ]
        }
      ],
      "source": [
        "# Exercise 83\n",
        "# Write a function definition named get_unique_values that takes in a list and returns a set with only the unique values from that list.\n",
        "def get_unique_values(list):\n",
        "    return set(list)\n",
        "assert get_unique_values([\"ant\", \"ant\", \"mosquito\", \"mosquito\", \"ladybug\"]) == {\"ant\", \"mosquito\", \"ladybug\"}\n",
        "assert get_unique_values([\"b\", \"a\", \"n\", \"a\", \"n\", \"a\", \"s\"]) == {\"b\", \"a\", \"n\", \"s\"}\n",
        "assert get_unique_values([\"mary\", \"had\", \"a\", \"little\", \"lamb\", \"little\", \"lamb\", \"little\", \"lamb\"]) == {\"mary\", \"had\", \"a\", \"little\", \"lamb\"}\n",
        "print(\"Exercise 83 is correct.\")"
      ]
    },
    {
      "cell_type": "code",
      "execution_count": null,
      "metadata": {
        "id": "egkW6FTw4LBD"
      },
      "outputs": [
        {
          "name": "stdout",
          "output_type": "stream",
          "text": [
            "Exercise 84 is correct.\n"
          ]
        }
      ],
      "source": [
        "# Exercise 84\n",
        "# Write a function definition named get_unique_values_from_two_lists that takes two lists and returns a single set with only the unique values\n",
        "def get_unique_values_from_two_lists(a,b):\n",
        "    return set(a+b)\n",
        "assert get_unique_values_from_two_lists([5, 1, 2, 3], [3, 4, 5, 5]) == {1, 2, 3, 4, 5}\n",
        "assert get_unique_values_from_two_lists([1, 1], [2, 2, 3]) == {1, 2, 3}\n",
        "assert get_unique_values_from_two_lists([\"tomato\", \"mango\", \"kiwi\"], [\"eggplant\", \"tomato\", \"broccoli\"]) == {\"tomato\", \"mango\", \"kiwi\", \"eggplant\", \"broccoli\"}\n",
        "print(\"Exercise 84 is correct.\")"
      ]
    },
    {
      "cell_type": "code",
      "execution_count": null,
      "metadata": {
        "id": "Ba6l4ZU04LBD"
      },
      "outputs": [
        {
          "name": "stdout",
          "output_type": "stream",
          "text": [
            "Exercise 85 is correct.\n"
          ]
        }
      ],
      "source": [
        "# Exercise 85\n",
        "def get_values_in_common(a,b):\n",
        "    a=set(a)\n",
        "    b=set(b)\n",
        "    c=a.intersection(b)\n",
        "    return c\n",
        "assert get_values_in_common([5, 1, 2, 3], [3, 4, 5, 5]) == {3, 5}\n",
        "assert get_values_in_common([1, 2], [2, 2, 3]) == {2}\n",
        "assert get_values_in_common([\"tomato\", \"mango\", \"kiwi\"], [\"eggplant\", \"tomato\", \"broccoli\"]) == {\"tomato\"}\n",
        "print(\"Exercise 85 is correct.\")"
      ]
    },
    {
      "cell_type": "code",
      "execution_count": null,
      "metadata": {
        "id": "JbaPFWzM4LBN"
      },
      "outputs": [
        {
          "name": "stdout",
          "output_type": "stream",
          "text": [
            "{1, 2, 4}\n",
            "Exercise 86 is correct.\n"
          ]
        }
      ],
      "source": [
        "# Exercise 86\n",
        "# Write a function definition named get_values_not_in_common that takes two lists and returns a single set with the values that each list does not have in common\n",
        "def get_values_not_in_common(a,b):\n",
        "    a=(set(a))\n",
        "    b=(set(b))\n",
        "    c=a.intersection(b)\n",
        "    d=set([num for num in a.union(b) if num not in c])\n",
        "    return d\n",
        "\n",
        "print(get_values_not_in_common([5, 1, 2, 3], [3, 4, 5, 5]))\n",
        "assert get_values_not_in_common([1, 1], [2, 2, 3]) == {1, 2, 3}\n",
        "assert get_values_not_in_common([\"tomato\", \"mango\", \"kiwi\"], [\"eggplant\", \"tomato\", \"broccoli\"]) == {\"mango\", \"kiwi\", \"eggplant\", \"broccoli\"}\n",
        "print(\"Exercise 86 is correct.\")"
      ]
    },
    {
      "cell_type": "markdown",
      "metadata": {
        "id": "-jRPQkve4LBO"
      },
      "source": [
        "## Working with Dictionaries\n"
      ]
    },
    {
      "cell_type": "code",
      "execution_count": null,
      "metadata": {
        "id": "u4Z7tgjw4LBO"
      },
      "outputs": [],
      "source": [
        "# Run this cell in order to have these two dictionary variables defined.\n",
        "tukey_paper = {\n",
        "    \"title\": \"The Future of Data Analysis\",\n",
        "    \"author\": \"John W. Tukey\",\n",
        "    \"link\": \"https://projecteuclid.org/euclid.aoms/1177704711\",\n",
        "    \"year_published\": 1962\n",
        "}\n",
        "\n",
        "thomas_paper = {\n",
        "    \"title\": \"A mathematical model of glutathione metabolism\",\n",
        "    \"author\": \"Rachel Thomas\",\n",
        "    \"link\": \"https://www.ncbi.nlm.nih.gov/pubmed/18442411\",\n",
        "    \"year_published\": 2008\n",
        "}"
      ]
    },
    {
      "cell_type": "code",
      "execution_count": null,
      "metadata": {
        "id": "NPjp8GmP4LBO"
      },
      "outputs": [
        {
          "name": "stdout",
          "output_type": "stream",
          "text": [
            "Exercise 87 is correct.\n"
          ]
        }
      ],
      "source": [
        "# Exercise 87\n",
        "# Write a function named get_paper_title that takes in a dictionary and returns the title property\n",
        "def get_paper_title(dict):\n",
        "    return dict['title']\n",
        "assert get_paper_title(tukey_paper) == \"The Future of Data Analysis\"\n",
        "assert get_paper_title(thomas_paper) == \"A mathematical model of glutathione metabolism\"\n",
        "print(\"Exercise 87 is correct.\")"
      ]
    },
    {
      "cell_type": "code",
      "execution_count": null,
      "metadata": {
        "id": "JXG6D7mF4LBO"
      },
      "outputs": [
        {
          "name": "stdout",
          "output_type": "stream",
          "text": [
            "Exercise 88 is correct.\n"
          ]
        }
      ],
      "source": [
        "# Exercise 88\n",
        "# Write a function named get_year_published that takes in a dictionary and returns the value behind the \"year_published\" key.\n",
        "def get_year_published(dict):\n",
        "    return dict['year_published']\n",
        "assert get_year_published(tukey_paper) == 1962\n",
        "assert get_year_published(thomas_paper) == 2008\n",
        "print(\"Exercise 88 is correct.\")"
      ]
    },
    {
      "cell_type": "code",
      "execution_count": null,
      "metadata": {
        "id": "dTD6ElZ84LBP"
      },
      "outputs": [],
      "source": [
        "# Run this code to create data for the next two questions\n",
        "book = {\n",
        "    \"title\": \"Genetic Algorithms and Machine Learning for Programmers\",\n",
        "    \"price\": 36.99,\n",
        "    \"author\": \"Frances Buontempo\"\n",
        "}"
      ]
    },
    {
      "cell_type": "code",
      "execution_count": null,
      "metadata": {
        "id": "kTr8qefT4LBP"
      },
      "outputs": [
        {
          "name": "stdout",
          "output_type": "stream",
          "text": [
            "Exercise 89 is complete.\n"
          ]
        }
      ],
      "source": [
        "# Exercise 89\n",
        "# Write a function named get_price that takes in a dictionary and returns the price\n",
        "def get_price(list):\n",
        "    return list[\"price\"]\n",
        "assert get_price(book) == 36.99\n",
        "print(\"Exercise 89 is complete.\")"
      ]
    },
    {
      "cell_type": "code",
      "execution_count": null,
      "metadata": {
        "id": "v6fSnMGT4LBP"
      },
      "outputs": [
        {
          "name": "stdout",
          "output_type": "stream",
          "text": [
            "Exercise 90 is complete.\n"
          ]
        }
      ],
      "source": [
        "# Exercise 90\n",
        "# Write a function named get_book_author that takes in a dictionary (the above declared book variable) and returns the author's name\n",
        "def get_book_author(list):\n",
        "    return list['author']\n",
        "\n",
        "assert get_book_author(book) == \"Frances Buontempo\"\n",
        "print(\"Exercise 90 is complete.\")"
      ]
    },
    {
      "cell_type": "markdown",
      "metadata": {
        "id": "F5jHVtEl4LBP"
      },
      "source": [
        "## Working with Lists of Dictionaries\n"
      ]
    },
    {
      "cell_type": "code",
      "execution_count": null,
      "metadata": {
        "id": "RkG7FLPp4LBQ"
      },
      "outputs": [],
      "source": [
        "# Run this cell in order to have some setup data for the next exercises\n",
        "books = [\n",
        "    {\n",
        "        \"title\": \"Genetic Algorithms and Machine Learning for Programmers\",\n",
        "        \"price\": 36.99,\n",
        "        \"author\": \"Frances Buontempo\"\n",
        "    },\n",
        "    {\n",
        "        \"title\": \"The Visual Display of Quantitative Information\",\n",
        "        \"price\": 38.00,\n",
        "        \"author\": \"Edward Tufte\"\n",
        "    },\n",
        "    {\n",
        "        \"title\": \"Practical Object-Oriented Design\",\n",
        "        \"author\": \"Sandi Metz\",\n",
        "        \"price\": 30.47\n",
        "    },\n",
        "    {\n",
        "        \"title\": \"Weapons of Math Destruction\",\n",
        "        \"author\": \"Cathy O'Neil\",\n",
        "        \"price\": 17.44\n",
        "    }\n",
        "]"
      ]
    },
    {
      "cell_type": "code",
      "execution_count": null,
      "metadata": {
        "id": "bim5GUGc4LBQ"
      },
      "outputs": [
        {
          "name": "stdout",
          "output_type": "stream",
          "text": [
            "Exercise 91 is complete.\n"
          ]
        }
      ],
      "source": [
        "# Exercise 91\n",
        "# Write a function named get_number_of_books that takes in a list of objects and returns the number of dictionaries in that list.\n",
        "def get_number_of_books(list):\n",
        "    return len(list)\n",
        "assert get_number_of_books(books) == 4\n",
        "print(\"Exercise 91 is complete.\")"
      ]
    },
    {
      "cell_type": "code",
      "execution_count": null,
      "metadata": {
        "id": "BihWiI9y4LBQ"
      },
      "outputs": [
        {
          "name": "stdout",
          "output_type": "stream",
          "text": [
            "Exercise 92 is complete.\n"
          ]
        }
      ],
      "source": [
        "# Exercise 92\n",
        "# Write a function named total_of_book_prices that takes in a list of dictionaries and returns the sum total of all the book prices added together\n",
        "def total_of_book_prices(books):\n",
        "    count=0\n",
        "    for ele in books:\n",
        "        ele['price']\n",
        "        count+=ele['price']\n",
        "    return count    \n",
        "assert total_of_book_prices(books) == 122.9\n",
        "print(\"Exercise 92 is complete.\")"
      ]
    },
    {
      "cell_type": "code",
      "execution_count": null,
      "metadata": {
        "id": "EOTKsBlR4LBQ"
      },
      "outputs": [
        {
          "name": "stdout",
          "output_type": "stream",
          "text": [
            "Exercise 93 is complete.\n"
          ]
        }
      ],
      "source": [
        "# Exercise 93\n",
        "# Write a function named get_average_book_price that takes in a list of dictionaries and returns the average book price.\n",
        "def get_average_book_price(books):\n",
        "    n=len(books)\n",
        "    count=0\n",
        "    for ele in books:\n",
        "        ele['price']\n",
        "        count+=ele['price']\n",
        "    return count/n    \n",
        "\n",
        "assert get_average_book_price(books) == 30.725\n",
        "print(\"Exercise 93 is complete.\")"
      ]
    },
    {
      "cell_type": "code",
      "execution_count": null,
      "metadata": {
        "id": "nyyzYsgJ4LBQ"
      },
      "outputs": [
        {
          "name": "stdout",
          "output_type": "stream",
          "text": [
            "Exercise 94 is complete\n"
          ]
        }
      ],
      "source": [
        "# Exercise 94\n",
        "# Write a function called highest_price_book that takes in the above defined list of dictionaries \"books\" and returns the dictionary containing the title, price, and author of the book with the highest priced book.\n",
        "# Hint: Much like sometimes start functions with a variable set to zero, you may want to create a dictionary with the price set to zero to compare to each dictionary's price in the list\n",
        "def highest_price_book(list):\n",
        "    count=0\n",
        "    highest_price_book=None\n",
        "    for book in list:\n",
        "        price=book['price']\n",
        "        if price> count:\n",
        "            count=price\n",
        "            highest_price_book=book\n",
        "    return highest_price_book       \n",
        "\n",
        "assert highest_price_book(books) == {\n",
        "    \"title\": \"The Visual Display of Quantitative Information\",\n",
        "    \"price\": 38.00,\n",
        "    \"author\": \"Edward Tufte\"\n",
        "}\n",
        "\n",
        "print(\"Exercise 94 is complete\")"
      ]
    },
    {
      "cell_type": "code",
      "execution_count": null,
      "metadata": {
        "id": "RZa0XvgG4LBQ"
      },
      "outputs": [
        {
          "name": "stdout",
          "output_type": "stream",
          "text": [
            "Exercise 95 is complete.\n"
          ]
        }
      ],
      "source": [
        "# Exercise 95\n",
        "# Write a function called lowest_priced_book that takes in the above defined list of dictionaries \"books\" and returns the dictionary containing the title, price, and author of the book with the lowest priced book.\n",
        "# Hint: Much like sometimes start functions with a variable set to zero or float('inf'), you may want to create a dictionary with the price set to float('inf') to compare to each dictionary in the list\n",
        "def lowest_price_book(list):\n",
        "    count=list[0]['price']\n",
        "    lowest_price_book=None\n",
        "    for book in list:\n",
        "        price=book['price']\n",
        "        if price<count:\n",
        "            count=price\n",
        "            lowest_price_book=book\n",
        "    return lowest_price_book        \n",
        "\n",
        "assert lowest_price_book(books) == {\n",
        "    \"title\": \"Weapons of Math Destruction\",\n",
        "    \"author\": \"Cathy O'Neil\",\n",
        "    \"price\": 17.44\n",
        "}\n",
        "print(\"Exercise 95 is complete.\")"
      ]
    },
    {
      "cell_type": "code",
      "execution_count": 130,
      "metadata": {
        "id": "SLW7kvaT4LBR"
      },
      "outputs": [],
      "source": [
        "shopping_cart = {\n",
        "    \"tax\": .08,\n",
        "    \"items\": [\n",
        "        {\n",
        "            \"title\": \"orange juice\",\n",
        "            \"price\": 3.99,\n",
        "            \"quantity\": 1\n",
        "        },\n",
        "        {\n",
        "            \"title\": \"rice\",\n",
        "            \"price\": 1.99,\n",
        "            \"quantity\": 3\n",
        "        },\n",
        "        {\n",
        "            \"title\": \"beans\",\n",
        "            \"price\": 0.99,\n",
        "            \"quantity\": 3\n",
        "        },\n",
        "        {\n",
        "            \"title\": \"chili sauce\",\n",
        "            \"price\": 2.99,\n",
        "            \"quantity\": 1\n",
        "        },\n",
        "        {\n",
        "            \"title\": \"chocolate\",\n",
        "            \"price\": 0.75,\n",
        "            \"quantity\": 9\n",
        "        }\n",
        "    ]\n",
        "}"
      ]
    },
    {
      "cell_type": "code",
      "execution_count": 132,
      "metadata": {
        "id": "mZ6gRnVu4LBR"
      },
      "outputs": [
        {
          "name": "stdout",
          "output_type": "stream",
          "text": [
            "Exercise 96 is complete\n"
          ]
        }
      ],
      "source": [
        "# Exercise 96\n",
        "# Write a function named get_tax_rate that takes in the above shopping cart as input and returns the tax rate.\n",
        "# Hint: How do you access a key's value on a dictionary? The tax rate is one key of the entire shopping_cart dictionary.\n",
        "def get_tax_rate(list):\n",
        "    return list[\"tax\"]\n",
        "assert get_tax_rate(shopping_cart) == .08\n",
        "print(\"Exercise 96 is complete\")"
      ]
    },
    {
      "cell_type": "code",
      "execution_count": 149,
      "metadata": {
        "id": "Eh9sfKt64LBR"
      },
      "outputs": [
        {
          "name": "stdout",
          "output_type": "stream",
          "text": [
            "Exercise 97 is complete.\n"
          ]
        }
      ],
      "source": [
        "# Exercise 97\n",
        "# Write a function named number_of_item_types that takes in the shopping cart as input and returns the number of unique item types in the shopping cart.\n",
        "# We're not yet using the quantity of each item, but rather focusing on determining how many different types of items are in the cart.\n",
        "def number_of_item_types(market):\n",
        "     a=list(market[\"items\"])\n",
        "     b=[]\n",
        "     for s in range(0,len(a),1):\n",
        "          b.append(a[s][\"title\"])\n",
        "     return len(b)\n",
        "assert number_of_item_types(shopping_cart) == 5\n",
        "print(\"Exercise 97 is complete.\")"
      ]
    },
    {
      "cell_type": "code",
      "execution_count": 159,
      "metadata": {
        "id": "LPLj-SH64LBR"
      },
      "outputs": [
        {
          "name": "stdout",
          "output_type": "stream",
          "text": [
            "Exercise 98 is complete.\n"
          ]
        }
      ],
      "source": [
        "# Exercise 98\n",
        "# Write a function named total_number_of_items that takes in the shopping cart as input and returns the total number all item quantities.\n",
        "# This should return the sum of all of the quantities from each item type\n",
        "def total_number_of_items(a):\n",
        "    count=0\n",
        "    for ele in a[\"items\"]:\n",
        "        count+=ele[\"quantity\"]\n",
        "    return count\n",
        "assert total_number_of_items(shopping_cart) == 17\n",
        "print(\"Exercise 98 is complete.\")"
      ]
    },
    {
      "cell_type": "code",
      "execution_count": 163,
      "metadata": {
        "id": "ANDZD91s4LBR"
      },
      "outputs": [
        {
          "name": "stdout",
          "output_type": "stream",
          "text": [
            "Exercise 99 is complete.\n"
          ]
        }
      ],
      "source": [
        "# Exercise 99\n",
        "# Write a function named get_average_item_price that takes in the shopping cart as an input and returns the average of all the item prices.\n",
        "# Hint - This should determine the total price divided by the number of types of items. This does not account for each item type's quantity.z\n",
        "def get_average_item_price(a):\n",
        "    count=0\n",
        "    for ele in a['items']:\n",
        "        count+=ele['price']\n",
        "    a=list(a[\"items\"])\n",
        "    b=[]\n",
        "    for s in range(0,len(a),1):\n",
        "          b.append(a[s][\"title\"])\n",
        "          n=len(b)\n",
        "    return count/n      \n",
        "\n",
        "\n",
        "assert get_average_item_price(shopping_cart) == 2.1420000000000003\n",
        "print(\"Exercise 99 is complete.\")"
      ]
    },
    {
      "cell_type": "code",
      "execution_count": 165,
      "metadata": {
        "id": "8mMuo3bq4LBS"
      },
      "outputs": [
        {
          "name": "stdout",
          "output_type": "stream",
          "text": [
            "Exercise 100 is complete.\n"
          ]
        }
      ],
      "source": [
        "# Exercise 100\n",
        "# Write a function named get_average_spent_per_item that takes in the shopping cart and returns the average of summing each item's quanties times that item's price.\n",
        "# Hint: You may need to set an initial total price and total total quantity to zero, then sum up and divide that total price by the total quantity\n",
        "def get_average_spent_per_item(a):\n",
        "    count=0\n",
        "    for ele in a['items']:\n",
        "        ele['price']\n",
        "        ele['quantity']\n",
        "        count+=ele['price']*ele['quantity']\n",
        "    n=0\n",
        "    for s in a['items']:\n",
        "        n+=s['quantity']\n",
        "    return count/n        \n",
        "\n",
        "assert get_average_spent_per_item(shopping_cart) == 1.333529411764706\n",
        "print(\"Exercise 100 is complete.\")"
      ]
    },
    {
      "cell_type": "code",
      "execution_count": 166,
      "metadata": {
        "id": "TFEY2qLV4LBS"
      },
      "outputs": [
        {
          "name": "stdout",
          "output_type": "stream",
          "text": [
            "Exercise 101 is complete.\n"
          ]
        }
      ],
      "source": [
        "# Exercise 101\n",
        "# Write a function named most_spent_on_item that takes in the shopping cart as input and returns the dictionary associated with the item that has the highest price*quantity.\n",
        "# Be sure to do this as programmatically as possible.\n",
        "# Hint: Similarly to how we sometimes begin a function with setting a variable to zero, we need a starting place:\n",
        "# Hint: Consider creating a variable that is a dictionary with the keys \"price\" and \"quantity\" both set to 0. You can then compare each item's price and quantity total to the one from \"most\"\n",
        "def most_spent_on_item(a):\n",
        "    most_spent=0\n",
        "    most_spent_item=None\n",
        "    for ele in a['items']:\n",
        "        if ele['price']*ele ['quantity']>most_spent:\n",
        "            most_spent=ele['price']*ele['quantity']\n",
        "            most_spent_item=ele\n",
        "    return ele        \n",
        "\n",
        "\n",
        "\n",
        "assert most_spent_on_item(shopping_cart) == {\n",
        "    \"title\": \"chocolate\",\n",
        "    \"price\": 0.75,\n",
        "    \"quantity\": 9\n",
        "}\n",
        "print(\"Exercise 101 is complete.\")"
      ]
    },
    {
      "cell_type": "markdown",
      "metadata": {
        "id": "7Mhk4CZNnlZC"
      },
      "source": [
        "# General Questions"
      ]
    },
    {
      "cell_type": "markdown",
      "metadata": {
        "id": "-ustQf0wnlZC"
      },
      "source": [
        "## Level - 1"
      ]
    },
    {
      "cell_type": "markdown",
      "metadata": {
        "id": "QMZJ73wYnlZC"
      },
      "source": [
        "\n",
        "\n",
        "1. With a given integral number n, write a program to generate a dictionary that contains (i, i*i) such that is an integral number between 1 and n (both included). and then the program should print the dictionary.\n",
        "Suppose the following input is supplied to the program:\n",
        "8\n",
        "Then, the output should be:\n",
        "{1: 1, 2: 4, 3: 9, 4: 16, 5: 25, 6: 36, 7: 49, 8: 64}\n",
        "\n",
        "**Hints:**\n",
        "In case of input data being supplied to the question, it should be assumed to be a console input.\n",
        "Consider use dict()"
      ]
    },
    {
      "cell_type": "code",
      "execution_count": 191,
      "metadata": {},
      "outputs": [
        {
          "name": "stdout",
          "output_type": "stream",
          "text": [
            "{1: 1, 2: 4, 3: 9, 4: 16, 5: 25, 6: 36, 7: 49, 8: 64}\n"
          ]
        }
      ],
      "source": [
        "def square():\n",
        "    n=int(input())\n",
        "    square_of_number={}\n",
        "    for i in range(1,n+1,1):\n",
        "        square_of_number[i]=i*i\n",
        "    print(square_of_number)  \n",
        "\n",
        "square()"
      ]
    },
    {
      "cell_type": "markdown",
      "metadata": {
        "id": "ek4NhimxnlZD"
      },
      "source": [
        "2. Write a program which accepts a sequence of comma-separated numbers from console and generate a list and a tuple which contains every number.\n",
        "Suppose the following input is supplied to the program:\n",
        "34,67,55,33,12,98\n",
        "Then, the output should be:\n",
        "['34', '67', '55', '33', '12', '98']\n",
        "('34', '67', '55', '33', '12', '98')\n",
        "\n",
        "**Hints:** <br>\n",
        "In case of input data being supplied to the question, it should be assumed to be a console input.\n",
        "tuple() method can convert list to tuple\n"
      ]
    },
    {
      "cell_type": "code",
      "execution_count": 198,
      "metadata": {
        "id": "qO_yylebnlZD"
      },
      "outputs": [
        {
          "name": "stdout",
          "output_type": "stream",
          "text": [
            "['34', '67', '55', '33', '12', '98']\n",
            "('34', '67', '55', '33', '12', '98')\n"
          ]
        }
      ],
      "source": [
        "a=input()\n",
        "a=a.split(',')\n",
        "d=tuple(a)\n",
        "print(a)\n",
        "print(d)"
      ]
    },
    {
      "cell_type": "markdown",
      "metadata": {
        "id": "vTSuzQZOnlZD"
      },
      "source": [
        "3. Define a class which has at least two methods:\n",
        "getString: to get a string from console input\n",
        "printString: to print the string in upper case\n",
        "Also please include simple test function to test the class methods.\n",
        "\n",
        "Hints:\n",
        "Use __init__ method to construct some parameters"
      ]
    },
    {
      "cell_type": "code",
      "execution_count": 1,
      "metadata": {
        "id": "z__IqXw_nlZD"
      },
      "outputs": [
        {
          "name": "stdout",
          "output_type": "stream",
          "text": [
            "HARE KRISHNA\n"
          ]
        }
      ],
      "source": [
        "class myClass:\n",
        "    def __init__(self):\n",
        "        self.str = \"\"\n",
        "    \n",
        "    def getString(self):\n",
        "        a = input()\n",
        "        self.str = a\n",
        "\n",
        "    def printString(self):\n",
        "        print(self.str.upper())\n",
        "        \n",
        "obj=myClass()\n",
        "obj.getString()\n",
        "obj.printString()"
      ]
    },
    {
      "cell_type": "markdown",
      "metadata": {
        "id": "fDlZu613nlZD"
      },
      "source": [
        "4. Write a Function which will find all such numbers which are divisible by 7 but are not a multiple of 5, between 2000 and 3200 (both included).\n",
        "The numbers obtained should be printed in a comma-separated sequence on a single line.\n",
        "\n",
        "**Hints:**\n",
        "Consider use range(#begin, #end) method"
      ]
    },
    {
      "cell_type": "code",
      "execution_count": 25,
      "metadata": {
        "id": "PUcjS-ksnlZD"
      },
      "outputs": [
        {
          "name": "stdout",
          "output_type": "stream",
          "text": [
            "2002 ,2009 ,2016 ,2023 ,2037 ,2044 ,2051 ,2058 ,2072 ,2079 ,2086 ,2093 ,2107 ,2114 ,2121 ,2128 ,2142 ,2149 ,2156 ,2163 ,2177 ,2184 ,2191 ,2198 ,2212 ,2219 ,2226 ,2233 ,2247 ,2254 ,2261 ,2268 ,2282 ,2289 ,2296 ,2303 ,2317 ,2324 ,2331 ,2338 ,2352 ,2359 ,2366 ,2373 ,2387 ,2394 ,2401 ,2408 ,2422 ,2429 ,2436 ,2443 ,2457 ,2464 ,2471 ,2478 ,2492 ,2499 ,2506 ,2513 ,2527 ,2534 ,2541 ,2548 ,2562 ,2569 ,2576 ,2583 ,2597 ,2604 ,2611 ,2618 ,2632 ,2639 ,2646 ,2653 ,2667 ,2674 ,2681 ,2688 ,2702 ,2709 ,2716 ,2723 ,2737 ,2744 ,2751 ,2758 ,2772 ,2779 ,2786 ,2793 ,2807 ,2814 ,2821 ,2828 ,2842 ,2849 ,2856 ,2863 ,2877 ,2884 ,2891 ,2898 ,2912 ,2919 ,2926 ,2933 ,2947 ,2954 ,2961 ,2968 ,2982 ,2989 ,2996 ,3003 ,3017 ,3024 ,3031 ,3038 ,3052 ,3059 ,3066 ,3073 ,3087 ,3094 ,3101 ,3108 ,3122 ,3129 ,3136 ,3143 ,3157 ,3164 ,3171 ,3178 ,3192 ,3199 ,"
          ]
        }
      ],
      "source": [
        "def find_numbers():\n",
        "    for num in range(2000,3201):\n",
        "        if num%7==0 and num%5!=0:\n",
        "            print(num, ',', end='')\n",
        "find_numbers()        "
      ]
    },
    {
      "cell_type": "markdown",
      "metadata": {
        "id": "fIUrwUQvnlZD"
      },
      "source": [
        "## Level - 2\n",
        "\n",
        "1. Write a program which takes 2 digits  as input and generates a 2-D array. The element value in the i-th row and j-th column of the array should be i**j.\n",
        "Note: i=0,1.., X-1; j=0,1...,­Y-1.\n",
        "\n",
        "Hints:\n",
        "Note: In case of input data being supplied to the question, it should be assumed to be a console input in a comma-separated form."
      ]
    },
    {
      "cell_type": "code",
      "execution_count": 33,
      "metadata": {
        "id": "W_kZwQ6inlZE"
      },
      "outputs": [
        {
          "name": "stdout",
          "output_type": "stream",
          "text": [
            "[[1, 0, 0, 0], [1, 1, 1, 1], [1, 2, 4, 8], [1, 3, 9, 27]]\n",
            "1\n"
          ]
        }
      ],
      "source": [
        "def mat(a,b):\n",
        "    lst = []\n",
        "    for i in range(a):\n",
        "        sub_lst = []\n",
        "        for j in range(b):\n",
        "            sub_lst.append(i**j)\n",
        "        lst.append(sub_lst)\n",
        "    return lst\n",
        "print(mat(4,4))\n",
        "print(0**0)"
      ]
    },
    {
      "cell_type": "markdown",
      "metadata": {
        "id": "GQqc65GcnlZE"
      },
      "source": [
        "2. Write a program which accepts a sequence of comma separated 4 digit binary numbers as its input and then check whether they are divisible by 5 or not. The numbers that are divisible by 5 are to be printed in a comma separated sequence.\n",
        "Example:\n",
        "0100,0011,1010,1001\n",
        "Then the output should be:\n",
        "1010\n",
        "Notes: Assume the data is input by console.\n",
        "\n",
        "Hints:\n",
        "In case of input data being supplied to the question, it should be assumed to be a console input.\n"
      ]
    },
    {
      "cell_type": "code",
      "execution_count": 8,
      "metadata": {},
      "outputs": [
        {
          "name": "stdout",
          "output_type": "stream",
          "text": [
            "1010\n"
          ]
        }
      ],
      "source": [
        "a=input()\n",
        "b=a.split(',')\n",
        "# divisible_number=[]\n",
        "for num in b:\n",
        "    count=int(num,2)\n",
        "    if count%5==0:\n",
        "        print(num) \n",
        "\n"
      ]
    },
    {
      "cell_type": "markdown",
      "metadata": {
        "id": "tn6ScAeJnlZE"
      },
      "source": [
        "# Level - 3\n",
        "\n",
        "1. A robot moves in a plane starting from the original point (0,0). The robot can move toward UP, DOWN, LEFT and RIGHT with a given steps. The trace of robot movement is shown as the following:\n",
        "<br>\n",
        "UP 5 <br>\n",
        "DOWN 3<br>\n",
        "LEFT 3 <br>\n",
        "RIGHT 2<br>\n",
        "\n",
        "The numbers after the direction are steps. Please write a program to compute the distance from current position after a sequence of movement and original point. If the distance is a float, then just print the nearest integer.\n",
        "Example:\n",
        "If the following tuples are given as input to the program: <br>\n",
        "UP 5 <br>\n",
        "DOWN 3 <br>\n",
        "LEFT 3 <br>\n",
        "RIGHT 2 <br>\n",
        "Then, the output of the program should be:\n",
        "2"
      ]
    },
    {
      "cell_type": "code",
      "execution_count": 21,
      "metadata": {
        "id": "bsHFd43ZnlZE"
      },
      "outputs": [
        {
          "name": "stdout",
          "output_type": "stream",
          "text": [
            "2\n"
          ]
        }
      ],
      "source": [
        "import math\n",
        "def calculate_distance(moves):\n",
        "    x,y=0,0\n",
        "    # moves=input()\n",
        "    # moves=moves.split(',')\n",
        "    for move in moves:\n",
        "        direction,steps=move.split(' ')\n",
        "        steps=int(steps)\n",
        "        if direction=='UP':\n",
        "            y+=steps\n",
        "        elif direction=='DOWN':\n",
        "            y-=steps    \n",
        "        elif direction=='RIGHT':\n",
        "            x+=steps \n",
        "        elif direction=='LEFT':\n",
        "            x-=steps\n",
        "            \n",
        "    distance=math.sqrt(x**2+y**2) \n",
        "    return round(distance)\n",
        "\n",
        "moves=input()\n",
        "moves=moves.split(',')\n",
        "\n",
        "print(calculate_distance(moves))    \n",
        "                   \n"
      ]
    },
    {
      "cell_type": "markdown",
      "metadata": {
        "id": "MJtCdimznlZE"
      },
      "source": [
        "2. Please write a program to generate all sentences where subject is in [\"I\", \"You\"] and verb is in [\"Play\", \"Love\"] and the object is in [\"Hockey\",\"Football\"].\n",
        "\n",
        "Hints:\n",
        "Use list[index] notation to get a element from a list."
      ]
    },
    {
      "cell_type": "code",
      "execution_count": 25,
      "metadata": {
        "id": "LQ6dc2R3nlZF"
      },
      "outputs": [
        {
          "name": "stdout",
          "output_type": "stream",
          "text": [
            "I Play Football\n",
            "I Love Football\n",
            "You Play Football\n",
            "You Love Football\n"
          ]
        }
      ],
      "source": [
        "subs=[\"I\",\"You\"]\n",
        "verbs=[\"Play\",\"Love\"]\n",
        "obs=[\"Hockey\",\"Football\"]\n",
        "sentences=[]\n",
        "for sub in subs:\n",
        "      for verb in verbs:\n",
        "        for ob in obs:\n",
        "         sentence=f\"{sub} {verb} {ob}\"\n",
        "        sentences.append(sentence)\n",
        "for sentence in sentences:\n",
        "   print(sentence)\n",
        "    \n"
      ]
    }
  ],
  "metadata": {
    "colab": {
      "provenance": []
    },
    "kernelspec": {
      "display_name": "Python 3",
      "language": "python",
      "name": "python3"
    },
    "language_info": {
      "codemirror_mode": {
        "name": "ipython",
        "version": 3
      },
      "file_extension": ".py",
      "mimetype": "text/x-python",
      "name": "python",
      "nbconvert_exporter": "python",
      "pygments_lexer": "ipython3",
      "version": "3.11.9"
    }
  },
  "nbformat": 4,
  "nbformat_minor": 0
}
